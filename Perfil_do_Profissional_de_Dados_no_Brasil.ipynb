{
  "nbformat": 4,
  "nbformat_minor": 0,
  "metadata": {
    "colab": {
      "provenance": [],
      "authorship_tag": "ABX9TyN07ZhWFHk7/UGEQatsakGc",
      "include_colab_link": true
    },
    "kernelspec": {
      "name": "python3",
      "display_name": "Python 3"
    },
    "language_info": {
      "name": "python"
    }
  },
  "cells": [
    {
      "cell_type": "markdown",
      "metadata": {
        "id": "view-in-github",
        "colab_type": "text"
      },
      "source": [
        "<a href=\"https://colab.research.google.com/github/GiulianaMarcato/PerfildoProfissional/blob/main/Perfil_do_Profissional_de_Dados_no_Brasil.ipynb\" target=\"_parent\"><img src=\"https://colab.research.google.com/assets/colab-badge.svg\" alt=\"Open In Colab\"/></a>"
      ]
    },
    {
      "cell_type": "markdown",
      "source": [
        "#**Perfil do Profissional de Dados no Brasil**\n",
        "\n",
        "Para traçar um perfil do profissional de dados no Brasil, vamos buscar um conjunto de dados no Kaggle (https://www.kaggle.com/datasets/datahackers/pesquisa-data-hackers-2019), que traz uma pesquisa bem completa com 1765 profissionais da área.\n",
        "\n",
        "Vamos responder algumas questões:\n",
        "1. Qual o salário médio de um profissional de dados?\n",
        "    2. Em relação à profissão?\n",
        "    3. Em relação à idade?\n",
        "    4. Em relação à experiência?\n",
        "    5. Em relação a experiência de Cientista de Dados?\n",
        "6. Qual a relação entre grau de formação e salário?\n",
        "5. Qual a região brasileira que tem mais profissionais de dados?\n"
      ],
      "metadata": {
        "id": "6WbtXPuekCXe"
      }
    },
    {
      "cell_type": "markdown",
      "source": [
        "## **ETL dos Dados**"
      ],
      "metadata": {
        "id": "mWrFCBDPcbn7"
      }
    },
    {
      "cell_type": "markdown",
      "source": [
        "### **Importação da Biblioteca Pandas**"
      ],
      "metadata": {
        "id": "ilZB5JdmJw6s"
      }
    },
    {
      "cell_type": "code",
      "execution_count": 3,
      "metadata": {
        "id": "iv2jt3H1hZj-"
      },
      "outputs": [],
      "source": [
        "import pandas as pd"
      ]
    },
    {
      "cell_type": "markdown",
      "source": [
        "### **Leitura do Arquivo .CSV**"
      ],
      "metadata": {
        "id": "3zzVyvObJ_x8"
      }
    },
    {
      "cell_type": "code",
      "source": [
        "caminho = '/content/datahackers-survey-2019-anonymous-responses.csv'\n",
        "dados = pd.read_csv(caminho)"
      ],
      "metadata": {
        "id": "etDSDmqlnKzG"
      },
      "execution_count": 4,
      "outputs": []
    },
    {
      "cell_type": "markdown",
      "source": [
        "#### **Entendendo os Dados Disponíveis**"
      ],
      "metadata": {
        "id": "nmKol2uWKHxC"
      }
    },
    {
      "cell_type": "code",
      "source": [
        "# O arquivo tem 170 colunas, e quero visualizar todas\n",
        "pd.set_option(\"display.max_columns\",200)"
      ],
      "metadata": {
        "id": "kWkOTeVhqFY0"
      },
      "execution_count": 5,
      "outputs": []
    },
    {
      "cell_type": "markdown",
      "source": [
        "Porque o arquivo tem 170 colunas, se foram feitas somente 36 perguntas aos 1765 entrevistados?\n",
        "Porque algumas perguntas tem várias opções a serem marcadas, como por exemplo, a questão 20 (P20) = Quais dos métodos listados abaixo você costuma utilizar no trabalho?"
      ],
      "metadata": {
        "id": "2gmfi8uin2wd"
      }
    },
    {
      "cell_type": "code",
      "source": [
        "# Somente o cabeçalho do arquivo\n",
        "dados.head()"
      ],
      "metadata": {
        "colab": {
          "base_uri": "https://localhost:8080/",
          "height": 426
        },
        "id": "cuwLtAsanh8k",
        "outputId": "5894fd02-a4e5-4444-e065-6417bba3f1ad"
      },
      "execution_count": 6,
      "outputs": [
        {
          "output_type": "execute_result",
          "data": {
            "text/plain": [
              "                       ('P0', 'id')  ('P1', 'age') ('P2', 'gender')  \\\n",
              "0  v9otv8j9wdvjrv9otvwnn9owhzq54ktv           37.0        Masculino   \n",
              "1  875ul998t0hqcv0871uptwf3oswcfv35           24.0         Feminino   \n",
              "2  puscuk079vw1pusbb900pzw2xvpxtgdk           26.0        Masculino   \n",
              "3  rmel8ewqpbffp2mnfbzermel8eqincov           21.0        Masculino   \n",
              "4  pj9mgud4d6mdct1l7vq0pj9mgu78h6ju           27.0        Masculino   \n",
              "\n",
              "   ('P3', 'living_in_brasil') ('P5', 'living_state')  \\\n",
              "0                           1      Minas Gerais (MG)   \n",
              "1                           1         São Paulo (SP)   \n",
              "2                           1         São Paulo (SP)   \n",
              "3                           1         São Paulo (SP)   \n",
              "4                           1                    NaN   \n",
              "\n",
              "   ('P6', 'born_or_graduated') ('P8', 'degreee_level')  \\\n",
              "0                          1.0  Estudante de Graduação   \n",
              "1                          1.0  Estudante de Graduação   \n",
              "2                          1.0   Graduação/Bacharelado   \n",
              "3                          0.0  Estudante de Graduação   \n",
              "4                          1.0   Graduação/Bacharelado   \n",
              "\n",
              "  ('P10', 'job_situation') ('P12', 'workers_number')  ('P13', 'manager')  \\\n",
              "0          Empregado (CTL)                  de 1 a 5                 0.0   \n",
              "1          Empregado (CTL)             Acima de 3000                 0.0   \n",
              "2          Empregado (CTL)             Acima de 3000                 0.0   \n",
              "3               Estagiário                de 11 a 50                 0.0   \n",
              "4               Freelancer                 de 6 a 10                 1.0   \n",
              "\n",
              "          ('P16', 'salary_range') ('P17', 'time_experience_data_science')  \\\n",
              "0  de R$ 1.001/mês a R$ 2.000/mês  Não tenho experiência na área de dados   \n",
              "1   de R$ 2.001/mês a R$ 3000/mês                          Menos de 1 ano   \n",
              "2  de R$ 4.001/mês a R$ 6.000/mês                           de 1 a 2 anos   \n",
              "3  de R$ 1.001/mês a R$ 2.000/mês                          Menos de 1 ano   \n",
              "4  de R$ 6.001/mês a R$ 8.000/mês                           de 4 a 5 anos   \n",
              "\n",
              "                   ('P18', 'time_experience_before')  \\\n",
              "0  Não tive experiência na área de TI/Engenharia ...   \n",
              "1  Não tive experiência na área de TI/Engenharia ...   \n",
              "2                                     de 6 a 10 anos   \n",
              "3                                      de 2 a 3 anos   \n",
              "4                                      de 4 a 5 anos   \n",
              "\n",
              "   ('P19', 'is_data_science_professional')  ('P20', 'linear_regression')  \\\n",
              "0                                        0                             0   \n",
              "1                                        1                             0   \n",
              "2                                        1                             0   \n",
              "3                                        1                             0   \n",
              "4                                        1                             1   \n",
              "\n",
              "   ('P20', 'logistic_regression')  ('P20', 'glms')  ('P20', 'decision_tree')  \\\n",
              "0                               0                0                         0   \n",
              "1                               0                0                         0   \n",
              "2                               0                0                         0   \n",
              "3                               0                0                         0   \n",
              "4                               0                0                         1   \n",
              "\n",
              "   ('P20', 'random_forest')  ('P20', 'neural_networks')  \\\n",
              "0                         0                           0   \n",
              "1                         0                           0   \n",
              "2                         1                           1   \n",
              "3                         1                           0   \n",
              "4                         1                           0   \n",
              "\n",
              "   ('P20', 'bayesian_inference')  ('P20', 'ensemble')  ('P20', 'svms')  \\\n",
              "0                              0                    0                0   \n",
              "1                              0                    0                0   \n",
              "2                              0                    1                1   \n",
              "3                              0                    0                0   \n",
              "4                              0                    1                1   \n",
              "\n",
              "   ('P20', 'cnns')  ('P20', 'rnns')  ('P20', 'hmms')  ('P20', 'gans')  \\\n",
              "0                0                0                0                0   \n",
              "1                0                0                0                0   \n",
              "2                0                0                0                0   \n",
              "3                0                0                0                0   \n",
              "4                0                1                0                0   \n",
              "\n",
              "   ('P20', 'markov_chains')  ('P20', 'nlp')  \\\n",
              "0                         0               0   \n",
              "1                         0               0   \n",
              "2                         0               0   \n",
              "3                         0               0   \n",
              "4                         0               1   \n",
              "\n",
              "   ('P20', 'gradient_boosted_machines')  ('P20', 'cluster_analysis')  \\\n",
              "0                                     0                            0   \n",
              "1                                     0                            0   \n",
              "2                                     0                            1   \n",
              "3                                     0                            0   \n",
              "4                                     0                            0   \n",
              "\n",
              "   ('P20', 'survival_analysis')  ('P20', 'longitudinal_data_analysis')  \\\n",
              "0                             0                                      0   \n",
              "1                             0                                      0   \n",
              "2                             0                                      0   \n",
              "3                             0                                      0   \n",
              "4                             0                                      0   \n",
              "\n",
              "   ('P20', 'joint analysis')  ('P20', 'no_listed_methods')  ('P21', 'sql_')  \\\n",
              "0                          0                             0                0   \n",
              "1                          0                             1                1   \n",
              "2                          0                             0                0   \n",
              "3                          0                             0                1   \n",
              "4                          0                             0                1   \n",
              "\n",
              "   ('P21', 'r')  ('P21', 'python')  ('P21', 'c_c++_c#')  ('P21', 'dotnet')  \\\n",
              "0             0                  0                    0                  0   \n",
              "1             0                  1                    0                  0   \n",
              "2             0                  1                    0                  0   \n",
              "3             0                  1                    0                  0   \n",
              "4             0                  1                    1                  0   \n",
              "\n",
              "   ('P21', 'java')  ('P21', 'julia')  ('P21', 'sas_stata')  \\\n",
              "0                0                 0                     0   \n",
              "1                0                 0                     0   \n",
              "2                0                 0                     0   \n",
              "3                0                 0                     0   \n",
              "4                0                 0                     0   \n",
              "\n",
              "   ('P21', 'visual_basic_vba')  ('P21', 'scala')  ('P21', 'matlab')  \\\n",
              "0                            0                 0                  0   \n",
              "1                            0                 0                  0   \n",
              "2                            0                 0                  0   \n",
              "3                            0                 0                  0   \n",
              "4                            0                 0                  0   \n",
              "\n",
              "   ('P21', 'php')  ('P21', 'no_listed_languages')  \\\n",
              "0               0                               0   \n",
              "1               0                               0   \n",
              "2               0                               0   \n",
              "3               0                               0   \n",
              "4               0                               0   \n",
              "\n",
              "  ('P22', 'most_used_proggraming_languages')  ('P23', 'sql')  \\\n",
              "0                                        NaN               0   \n",
              "1                                     Python               1   \n",
              "2                                     Python               0   \n",
              "3                                        SQL               1   \n",
              "4                                     Python               1   \n",
              "\n",
              "   ('P23', 'nosql')  ('P23', 'images')  ('P23', 'nlp')  ('P23', 'videos')  \\\n",
              "0                 0                  0               0                  0   \n",
              "1                 0                  0               0                  0   \n",
              "2                 0                  0               0                  0   \n",
              "3                 0                  0               0                  0   \n",
              "4                 1                  0               1                  0   \n",
              "\n",
              "   ('P23', 'sheets')  ('P23', 'other')  ('P24', 'sql')  ('P24', 'nosql')  \\\n",
              "0                  0                 0               0                 0   \n",
              "1                  0                 0               1                 0   \n",
              "2                  1                 0               0                 0   \n",
              "3                  0                 0               1                 0   \n",
              "4                  1                 0               0                 0   \n",
              "\n",
              "   ('P24', 'imagens')  ('P24', 'nlp')  ('P24', 'vídeos')  \\\n",
              "0                   0               0                  0   \n",
              "1                   0               0                  0   \n",
              "2                   0               0                  0   \n",
              "3                   0               0                  0   \n",
              "4                   0               1                  0   \n",
              "\n",
              "   ('P24', 'planilhas')  ('P24', 'other')  ('P25', 'aws')  ('P25', 'gcp')  \\\n",
              "0                     0                 0               0               0   \n",
              "1                     0                 0               1               0   \n",
              "2                     1                 0               0               0   \n",
              "3                     0                 0               1               0   \n",
              "4                     0                 0               0               0   \n",
              "\n",
              "   ('P25', 'azure')  ('P25', 'ibm')  ('P25', 'on_premise_servers')  \\\n",
              "0                 0               0                              0   \n",
              "1                 0               0                              0   \n",
              "2                 0               0                              0   \n",
              "3                 0               0                              0   \n",
              "4                 0               0                              0   \n",
              "\n",
              "   ('P25', 'cloud_própria')  ('P25', 'other')  ('P26', 'mysql')  \\\n",
              "0                         0                 0                 0   \n",
              "1                         0                 0                 0   \n",
              "2                         1                 0                 0   \n",
              "3                         0                 0                 0   \n",
              "4                         0                 1                 1   \n",
              "\n",
              "   ('P26', 'oracle')  ('P26', 'sql_server')  ('P26', 'aurora')  \\\n",
              "0                  0                      0                  0   \n",
              "1                  1                      0                  0   \n",
              "2                  0                      0                  0   \n",
              "3                  0                      0                  0   \n",
              "4                  0                      0                  0   \n",
              "\n",
              "   ('P26', 'dynamodb')  ('P26', 'coachdb')  ('P26', 'cassandra')  \\\n",
              "0                    0                   0                     0   \n",
              "1                    0                   0                     0   \n",
              "2                    0                   0                     0   \n",
              "3                    0                   0                     0   \n",
              "4                    0                   0                     0   \n",
              "\n",
              "   ('P26', 'mongodb')  ('P26', 'mariadb')  ('P26', 'datomic')  ('P26', 's3')  \\\n",
              "0                   0                   0                   0              0   \n",
              "1                   0                   0                   0              1   \n",
              "2                   0                   0                   0              0   \n",
              "3                   0                   0                   0              0   \n",
              "4                   1                   1                   0              0   \n",
              "\n",
              "   ('P26', 'postgresql')  ('P26', 'elaticsearch')  ('P26', 'db2')  \\\n",
              "0                      0                        0               0   \n",
              "1                      0                        0               0   \n",
              "2                      0                        0               0   \n",
              "3                      0                        0               0   \n",
              "4                      1                        1               0   \n",
              "\n",
              "   ('P26', 'ms_access')  ('P26', 'sqlite')  ('P26', 'sybase')  \\\n",
              "0                     0                  0                  0   \n",
              "1                     0                  0                  0   \n",
              "2                     0                  0                  0   \n",
              "3                     0                  0                  0   \n",
              "4                     0                  1                  0   \n",
              "\n",
              "   ('P26', 'firebase')  ('P26', 'vertica')  ('P26', 'redis')  \\\n",
              "0                    0                   0                 0   \n",
              "1                    0                   0                 0   \n",
              "2                    0                   0                 0   \n",
              "3                    0                   0                 0   \n",
              "4                    0                   0                 0   \n",
              "\n",
              "   ('P26', 'neo4j')  ('P26', 'google_bigtable')  ('P26', 'hbase')  \\\n",
              "0                 0                           0                 0   \n",
              "1                 0                           0                 0   \n",
              "2                 0                           0                 0   \n",
              "3                 0                           0                 0   \n",
              "4                 0                           0                 0   \n",
              "\n",
              "   ('P26', 'other')  ('P27', 'microsoft_powerbi')  \\\n",
              "0                 0                             0   \n",
              "1                 0                             1   \n",
              "2                 1                             0   \n",
              "3                 1                             0   \n",
              "4                 0                             0   \n",
              "\n",
              "   ('P27', 'qlik_view_qlik_sense')  ('P27', 'tableau')  ('P27', 'metabase')  \\\n",
              "0                                0                   0                    0   \n",
              "1                                0                   0                    0   \n",
              "2                                0                   1                    0   \n",
              "3                                0                   0                    0   \n",
              "4                                0                   0                    0   \n",
              "\n",
              "   ('P27', 'superset')  ('P27', 'redash')  ('P27', 'microstrategy')  \\\n",
              "0                    0                  0                         0   \n",
              "1                    0                  0                         0   \n",
              "2                    0                  0                         0   \n",
              "3                    0                  0                         0   \n",
              "4                    0                  0                         0   \n",
              "\n",
              "   ('P27', 'ibm_analytics_cognos')  ('P27', 'sap_business_objects')  \\\n",
              "0                                0                                0   \n",
              "1                                0                                0   \n",
              "2                                0                                0   \n",
              "3                                0                                0   \n",
              "4                                0                                0   \n",
              "\n",
              "   ('P27', 'oracle_business_intelligence')  ('P27', 'birst')  \\\n",
              "0                                        0                 0   \n",
              "1                                        0                 0   \n",
              "2                                        0                 0   \n",
              "3                                        0                 0   \n",
              "4                                        0                 0   \n",
              "\n",
              "   ('P27', 'looker')  ('P27', 'google_data_studio')  \\\n",
              "0                  0                              0   \n",
              "1                  0                              0   \n",
              "2                  0                              0   \n",
              "3                  0                              0   \n",
              "4                  0                              0   \n",
              "\n",
              "   ('P27', 'only_excel_gsheets')  ('P27', 'no_bi_tool_at_work')  \\\n",
              "0                              0                              0   \n",
              "1                              0                              0   \n",
              "2                              0                              0   \n",
              "3                              0                              0   \n",
              "4                              0                              1   \n",
              "\n",
              "   ('P27', 'other')  ('P28', 'sql_&_stored_procedures')  \\\n",
              "0                 0                                   0   \n",
              "1                 0                                   1   \n",
              "2                 0                                   0   \n",
              "3                 1                                   0   \n",
              "4                 0                                   0   \n",
              "\n",
              "   ('P28', 'apache_airflow')  ('P28', 'luigi')  ('P28', 'aws_glue')  \\\n",
              "0                          0                 0                    0   \n",
              "1                          0                 0                    0   \n",
              "2                          0                 0                    0   \n",
              "3                          0                 0                    0   \n",
              "4                          0                 0                    0   \n",
              "\n",
              "   ('P28', 'talend')  ('P28', 'pentaho')  ('P28', 'alteryx')  \\\n",
              "0                  0                   0                   0   \n",
              "1                  0                   0                   0   \n",
              "2                  0                   0                   0   \n",
              "3                  0                   1                   0   \n",
              "4                  0                   0                   0   \n",
              "\n",
              "   ('P28', 'oracle_data_integrator')  ('P28', 'ibm_data_stage')  \\\n",
              "0                                  0                          0   \n",
              "1                                  0                          0   \n",
              "2                                  0                          0   \n",
              "3                                  0                          0   \n",
              "4                                  0                          0   \n",
              "\n",
              "   ('P28', 'sap_bw_etl')  ('P28', 'siss_sql_server_integration_services')  \\\n",
              "0                      0                                                0   \n",
              "1                      0                                                0   \n",
              "2                      0                                                0   \n",
              "3                      0                                                0   \n",
              "4                      0                                                0   \n",
              "\n",
              "   ('P28', 'other')  ('P29', 'have_data_warehouse')  \\\n",
              "0                 0                             NaN   \n",
              "1                 0                             0.0   \n",
              "2                 1                             0.0   \n",
              "3                 0                             1.0   \n",
              "4                 1                             0.0   \n",
              "\n",
              "   ('P30', 'google_bigquery')  ('P30', 'aws_redshift')  ('P30', 'snowflake')  \\\n",
              "0                           0                        0                     0   \n",
              "1                           0                        0                     0   \n",
              "2                           0                        0                     0   \n",
              "3                           0                        1                     0   \n",
              "4                           0                        0                     0   \n",
              "\n",
              "   ('P30', 'oracle')  ('P30', 'postgres_mysql')  ('P30', 'ibm')  \\\n",
              "0                  0                          0               0   \n",
              "1                  0                          0               0   \n",
              "2                  0                          0               0   \n",
              "3                  0                          0               0   \n",
              "4                  0                          0               0   \n",
              "\n",
              "   ('P30', 'teradata')  ('P30', 'microsoft_azure')  ('P30', 'do_not_know')  \\\n",
              "0                    0                           0                       0   \n",
              "1                    0                           0                       0   \n",
              "2                    0                           0                       0   \n",
              "3                    0                           0                       0   \n",
              "4                    0                           0                       0   \n",
              "\n",
              "   ('P30', 'other')  ('P31', 'data_hackers_blog')  \\\n",
              "0                 0                             0   \n",
              "1                 0                             0   \n",
              "2                 0                             0   \n",
              "3                 0                             0   \n",
              "4                 0                             1   \n",
              "\n",
              "   ('P31', 'data_hackers_podcast')  ('P31', 'weekly_newsletter')  \\\n",
              "0                                0                             0   \n",
              "1                                0                             0   \n",
              "2                                1                             1   \n",
              "3                                0                             0   \n",
              "4                                0                             0   \n",
              "\n",
              "   ('P31', 'slack_channel')  ('P31', 'data_hackers_bootcamp')  \\\n",
              "0                         0                                 0   \n",
              "1                         0                                 0   \n",
              "2                         0                                 0   \n",
              "3                         0                                 0   \n",
              "4                         0                                 0   \n",
              "\n",
              "   ('P31', 'do_not_know_data_hackers')  \\\n",
              "0                                    1   \n",
              "1                                    1   \n",
              "2                                    0   \n",
              "3                                    1   \n",
              "4                                    0   \n",
              "\n",
              "  ('P32', 'prefered_data_hackers_initiative')  ('P33', 'telegram_groups')  \\\n",
              "0           Ainda não conhecia o Data Hackers                           0   \n",
              "1           Ainda não conhecia o Data Hackers                           0   \n",
              "2                          Newsletter Semanal                           0   \n",
              "3           Ainda não conhecia o Data Hackers                           0   \n",
              "4                 Blog/Medium do Data Hackers                           0   \n",
              "\n",
              "   ('P33', 'whatsapp_groups')  ('P33', 'youtube_channels')  \\\n",
              "0                           0                            1   \n",
              "1                           0                            1   \n",
              "2                           0                            0   \n",
              "3                           1                            0   \n",
              "4                           0                            0   \n",
              "\n",
              "   ('P33', 'other_brasilian_blogs')  ('P33', 'other_slack_channels')  \\\n",
              "0                                 0                                0   \n",
              "1                                 0                                0   \n",
              "2                                 1                                0   \n",
              "3                                 0                                0   \n",
              "4                                 0                                0   \n",
              "\n",
              "   ('P33', 'twitter')  ('P33', 'abroad_blogs')  ('P33', 'abroad_podcasts')  \\\n",
              "0                   0                        0                           0   \n",
              "1                   0                        0                           0   \n",
              "2                   0                        0                           0   \n",
              "3                   0                        0                           1   \n",
              "4                   0                        0                           0   \n",
              "\n",
              "   ('P33', 'meetups_and_events')  ('P33', 'only_data_hackers')  \\\n",
              "0                              0                             0   \n",
              "1                              0                             0   \n",
              "2                              0                             0   \n",
              "3                              0                             0   \n",
              "4                              0                             0   \n",
              "\n",
              "   ('P33', 'other')  ('P34', 'udacity')  ('P34', 'coursera')  \\\n",
              "0                 0                   0                    0   \n",
              "1                 0                   0                    0   \n",
              "2                 0                   0                    1   \n",
              "3                 0                   0                    1   \n",
              "4                 1                   1                    1   \n",
              "\n",
              "   ('P34', 'udemy')  ('P34', 'height')  ('P34', 'edx')  ('P34', 'data_camp')  \\\n",
              "0                 0                  0               0                     0   \n",
              "1                 1                  0               0                     0   \n",
              "2                 1                  0               0                     0   \n",
              "3                 1                  1               0                     0   \n",
              "4                 1                  0               0                     0   \n",
              "\n",
              "   ('P34', 'data_quest')  ('P34', 'kaggle_learn')  ('P34', 'online_courses')  \\\n",
              "0                      0                        0                          1   \n",
              "1                      0                        0                          0   \n",
              "2                      0                        1                          0   \n",
              "3                      0                        0                          0   \n",
              "4                      0                        0                          0   \n",
              "\n",
              "   ('P34', 'other') ('P35', 'data_science_plataforms_preference')  \\\n",
              "0                 0                       Nunca fiz cursos online   \n",
              "1                 1                                           NaN   \n",
              "2                 0                                         Udemy   \n",
              "3                 0                                         Alura   \n",
              "4                 0                                         Udemy   \n",
              "\n",
              "       ('P35', 'other')  ('P36', 'draw_participation')  \\\n",
              "0                   NaN                            1.0   \n",
              "1  Data Science Academy                            0.0   \n",
              "2                   NaN                            1.0   \n",
              "3                   NaN                            1.0   \n",
              "4                   NaN                            1.0   \n",
              "\n",
              "  ('D1', 'living_macroregion') ('D2', 'origin_macroregion')  \\\n",
              "0               Região Sudeste                          NaN   \n",
              "1               Região Sudeste                          NaN   \n",
              "2               Região Sudeste                          NaN   \n",
              "3               Região Sudeste               Região Sudeste   \n",
              "4                          NaN                          NaN   \n",
              "\n",
              "                    ('D3', 'anonymized_degree_area')  \\\n",
              "0  Computação / Engenharia de Software / Sistemas...   \n",
              "1  Computação / Engenharia de Software / Sistemas...   \n",
              "2                                 Outras Engenharias   \n",
              "3  Computação / Engenharia de Software / Sistemas...   \n",
              "4  Computação / Engenharia de Software / Sistemas...   \n",
              "\n",
              "  ('D4', 'anonymized_market_sector') ('D5', 'anonymized_manager_level')  \\\n",
              "0                             Outras                                NaN   \n",
              "1                           Educação                                NaN   \n",
              "2             Indústria (Manufatura)                                NaN   \n",
              "3     Tecnologia/Fábrica de Software                                NaN   \n",
              "4                 Internet/Ecommerce            C-level (CDO, CIO, CTO)   \n",
              "\n",
              "              ('D6', 'anonymized_role')  \n",
              "0                                Outras  \n",
              "1        Data Analyst/Analista de Dados  \n",
              "2                                Outras  \n",
              "3  Business Intelligence/Analista de BI  \n",
              "4                                   NaN  "
            ],
            "text/html": [
              "\n",
              "\n",
              "  <div id=\"df-41b0fae9-b16d-436c-8ee4-45b21108d34c\">\n",
              "    <div class=\"colab-df-container\">\n",
              "      <div>\n",
              "<style scoped>\n",
              "    .dataframe tbody tr th:only-of-type {\n",
              "        vertical-align: middle;\n",
              "    }\n",
              "\n",
              "    .dataframe tbody tr th {\n",
              "        vertical-align: top;\n",
              "    }\n",
              "\n",
              "    .dataframe thead th {\n",
              "        text-align: right;\n",
              "    }\n",
              "</style>\n",
              "<table border=\"1\" class=\"dataframe\">\n",
              "  <thead>\n",
              "    <tr style=\"text-align: right;\">\n",
              "      <th></th>\n",
              "      <th>('P0', 'id')</th>\n",
              "      <th>('P1', 'age')</th>\n",
              "      <th>('P2', 'gender')</th>\n",
              "      <th>('P3', 'living_in_brasil')</th>\n",
              "      <th>('P5', 'living_state')</th>\n",
              "      <th>('P6', 'born_or_graduated')</th>\n",
              "      <th>('P8', 'degreee_level')</th>\n",
              "      <th>('P10', 'job_situation')</th>\n",
              "      <th>('P12', 'workers_number')</th>\n",
              "      <th>('P13', 'manager')</th>\n",
              "      <th>('P16', 'salary_range')</th>\n",
              "      <th>('P17', 'time_experience_data_science')</th>\n",
              "      <th>('P18', 'time_experience_before')</th>\n",
              "      <th>('P19', 'is_data_science_professional')</th>\n",
              "      <th>('P20', 'linear_regression')</th>\n",
              "      <th>('P20', 'logistic_regression')</th>\n",
              "      <th>('P20', 'glms')</th>\n",
              "      <th>('P20', 'decision_tree')</th>\n",
              "      <th>('P20', 'random_forest')</th>\n",
              "      <th>('P20', 'neural_networks')</th>\n",
              "      <th>('P20', 'bayesian_inference')</th>\n",
              "      <th>('P20', 'ensemble')</th>\n",
              "      <th>('P20', 'svms')</th>\n",
              "      <th>('P20', 'cnns')</th>\n",
              "      <th>('P20', 'rnns')</th>\n",
              "      <th>('P20', 'hmms')</th>\n",
              "      <th>('P20', 'gans')</th>\n",
              "      <th>('P20', 'markov_chains')</th>\n",
              "      <th>('P20', 'nlp')</th>\n",
              "      <th>('P20', 'gradient_boosted_machines')</th>\n",
              "      <th>('P20', 'cluster_analysis')</th>\n",
              "      <th>('P20', 'survival_analysis')</th>\n",
              "      <th>('P20', 'longitudinal_data_analysis')</th>\n",
              "      <th>('P20', 'joint analysis')</th>\n",
              "      <th>('P20', 'no_listed_methods')</th>\n",
              "      <th>('P21', 'sql_')</th>\n",
              "      <th>('P21', 'r')</th>\n",
              "      <th>('P21', 'python')</th>\n",
              "      <th>('P21', 'c_c++_c#')</th>\n",
              "      <th>('P21', 'dotnet')</th>\n",
              "      <th>('P21', 'java')</th>\n",
              "      <th>('P21', 'julia')</th>\n",
              "      <th>('P21', 'sas_stata')</th>\n",
              "      <th>('P21', 'visual_basic_vba')</th>\n",
              "      <th>('P21', 'scala')</th>\n",
              "      <th>('P21', 'matlab')</th>\n",
              "      <th>('P21', 'php')</th>\n",
              "      <th>('P21', 'no_listed_languages')</th>\n",
              "      <th>('P22', 'most_used_proggraming_languages')</th>\n",
              "      <th>('P23', 'sql')</th>\n",
              "      <th>('P23', 'nosql')</th>\n",
              "      <th>('P23', 'images')</th>\n",
              "      <th>('P23', 'nlp')</th>\n",
              "      <th>('P23', 'videos')</th>\n",
              "      <th>('P23', 'sheets')</th>\n",
              "      <th>('P23', 'other')</th>\n",
              "      <th>('P24', 'sql')</th>\n",
              "      <th>('P24', 'nosql')</th>\n",
              "      <th>('P24', 'imagens')</th>\n",
              "      <th>('P24', 'nlp')</th>\n",
              "      <th>('P24', 'vídeos')</th>\n",
              "      <th>('P24', 'planilhas')</th>\n",
              "      <th>('P24', 'other')</th>\n",
              "      <th>('P25', 'aws')</th>\n",
              "      <th>('P25', 'gcp')</th>\n",
              "      <th>('P25', 'azure')</th>\n",
              "      <th>('P25', 'ibm')</th>\n",
              "      <th>('P25', 'on_premise_servers')</th>\n",
              "      <th>('P25', 'cloud_própria')</th>\n",
              "      <th>('P25', 'other')</th>\n",
              "      <th>('P26', 'mysql')</th>\n",
              "      <th>('P26', 'oracle')</th>\n",
              "      <th>('P26', 'sql_server')</th>\n",
              "      <th>('P26', 'aurora')</th>\n",
              "      <th>('P26', 'dynamodb')</th>\n",
              "      <th>('P26', 'coachdb')</th>\n",
              "      <th>('P26', 'cassandra')</th>\n",
              "      <th>('P26', 'mongodb')</th>\n",
              "      <th>('P26', 'mariadb')</th>\n",
              "      <th>('P26', 'datomic')</th>\n",
              "      <th>('P26', 's3')</th>\n",
              "      <th>('P26', 'postgresql')</th>\n",
              "      <th>('P26', 'elaticsearch')</th>\n",
              "      <th>('P26', 'db2')</th>\n",
              "      <th>('P26', 'ms_access')</th>\n",
              "      <th>('P26', 'sqlite')</th>\n",
              "      <th>('P26', 'sybase')</th>\n",
              "      <th>('P26', 'firebase')</th>\n",
              "      <th>('P26', 'vertica')</th>\n",
              "      <th>('P26', 'redis')</th>\n",
              "      <th>('P26', 'neo4j')</th>\n",
              "      <th>('P26', 'google_bigtable')</th>\n",
              "      <th>('P26', 'hbase')</th>\n",
              "      <th>('P26', 'other')</th>\n",
              "      <th>('P27', 'microsoft_powerbi')</th>\n",
              "      <th>('P27', 'qlik_view_qlik_sense')</th>\n",
              "      <th>('P27', 'tableau')</th>\n",
              "      <th>('P27', 'metabase')</th>\n",
              "      <th>('P27', 'superset')</th>\n",
              "      <th>('P27', 'redash')</th>\n",
              "      <th>('P27', 'microstrategy')</th>\n",
              "      <th>('P27', 'ibm_analytics_cognos')</th>\n",
              "      <th>('P27', 'sap_business_objects')</th>\n",
              "      <th>('P27', 'oracle_business_intelligence')</th>\n",
              "      <th>('P27', 'birst')</th>\n",
              "      <th>('P27', 'looker')</th>\n",
              "      <th>('P27', 'google_data_studio')</th>\n",
              "      <th>('P27', 'only_excel_gsheets')</th>\n",
              "      <th>('P27', 'no_bi_tool_at_work')</th>\n",
              "      <th>('P27', 'other')</th>\n",
              "      <th>('P28', 'sql_&amp;_stored_procedures')</th>\n",
              "      <th>('P28', 'apache_airflow')</th>\n",
              "      <th>('P28', 'luigi')</th>\n",
              "      <th>('P28', 'aws_glue')</th>\n",
              "      <th>('P28', 'talend')</th>\n",
              "      <th>('P28', 'pentaho')</th>\n",
              "      <th>('P28', 'alteryx')</th>\n",
              "      <th>('P28', 'oracle_data_integrator')</th>\n",
              "      <th>('P28', 'ibm_data_stage')</th>\n",
              "      <th>('P28', 'sap_bw_etl')</th>\n",
              "      <th>('P28', 'siss_sql_server_integration_services')</th>\n",
              "      <th>('P28', 'other')</th>\n",
              "      <th>('P29', 'have_data_warehouse')</th>\n",
              "      <th>('P30', 'google_bigquery')</th>\n",
              "      <th>('P30', 'aws_redshift')</th>\n",
              "      <th>('P30', 'snowflake')</th>\n",
              "      <th>('P30', 'oracle')</th>\n",
              "      <th>('P30', 'postgres_mysql')</th>\n",
              "      <th>('P30', 'ibm')</th>\n",
              "      <th>('P30', 'teradata')</th>\n",
              "      <th>('P30', 'microsoft_azure')</th>\n",
              "      <th>('P30', 'do_not_know')</th>\n",
              "      <th>('P30', 'other')</th>\n",
              "      <th>('P31', 'data_hackers_blog')</th>\n",
              "      <th>('P31', 'data_hackers_podcast')</th>\n",
              "      <th>('P31', 'weekly_newsletter')</th>\n",
              "      <th>('P31', 'slack_channel')</th>\n",
              "      <th>('P31', 'data_hackers_bootcamp')</th>\n",
              "      <th>('P31', 'do_not_know_data_hackers')</th>\n",
              "      <th>('P32', 'prefered_data_hackers_initiative')</th>\n",
              "      <th>('P33', 'telegram_groups')</th>\n",
              "      <th>('P33', 'whatsapp_groups')</th>\n",
              "      <th>('P33', 'youtube_channels')</th>\n",
              "      <th>('P33', 'other_brasilian_blogs')</th>\n",
              "      <th>('P33', 'other_slack_channels')</th>\n",
              "      <th>('P33', 'twitter')</th>\n",
              "      <th>('P33', 'abroad_blogs')</th>\n",
              "      <th>('P33', 'abroad_podcasts')</th>\n",
              "      <th>('P33', 'meetups_and_events')</th>\n",
              "      <th>('P33', 'only_data_hackers')</th>\n",
              "      <th>('P33', 'other')</th>\n",
              "      <th>('P34', 'udacity')</th>\n",
              "      <th>('P34', 'coursera')</th>\n",
              "      <th>('P34', 'udemy')</th>\n",
              "      <th>('P34', 'height')</th>\n",
              "      <th>('P34', 'edx')</th>\n",
              "      <th>('P34', 'data_camp')</th>\n",
              "      <th>('P34', 'data_quest')</th>\n",
              "      <th>('P34', 'kaggle_learn')</th>\n",
              "      <th>('P34', 'online_courses')</th>\n",
              "      <th>('P34', 'other')</th>\n",
              "      <th>('P35', 'data_science_plataforms_preference')</th>\n",
              "      <th>('P35', 'other')</th>\n",
              "      <th>('P36', 'draw_participation')</th>\n",
              "      <th>('D1', 'living_macroregion')</th>\n",
              "      <th>('D2', 'origin_macroregion')</th>\n",
              "      <th>('D3', 'anonymized_degree_area')</th>\n",
              "      <th>('D4', 'anonymized_market_sector')</th>\n",
              "      <th>('D5', 'anonymized_manager_level')</th>\n",
              "      <th>('D6', 'anonymized_role')</th>\n",
              "    </tr>\n",
              "  </thead>\n",
              "  <tbody>\n",
              "    <tr>\n",
              "      <th>0</th>\n",
              "      <td>v9otv8j9wdvjrv9otvwnn9owhzq54ktv</td>\n",
              "      <td>37.0</td>\n",
              "      <td>Masculino</td>\n",
              "      <td>1</td>\n",
              "      <td>Minas Gerais (MG)</td>\n",
              "      <td>1.0</td>\n",
              "      <td>Estudante de Graduação</td>\n",
              "      <td>Empregado (CTL)</td>\n",
              "      <td>de 1 a 5</td>\n",
              "      <td>0.0</td>\n",
              "      <td>de R$ 1.001/mês a R$ 2.000/mês</td>\n",
              "      <td>Não tenho experiência na área de dados</td>\n",
              "      <td>Não tive experiência na área de TI/Engenharia ...</td>\n",
              "      <td>0</td>\n",
              "      <td>0</td>\n",
              "      <td>0</td>\n",
              "      <td>0</td>\n",
              "      <td>0</td>\n",
              "      <td>0</td>\n",
              "      <td>0</td>\n",
              "      <td>0</td>\n",
              "      <td>0</td>\n",
              "      <td>0</td>\n",
              "      <td>0</td>\n",
              "      <td>0</td>\n",
              "      <td>0</td>\n",
              "      <td>0</td>\n",
              "      <td>0</td>\n",
              "      <td>0</td>\n",
              "      <td>0</td>\n",
              "      <td>0</td>\n",
              "      <td>0</td>\n",
              "      <td>0</td>\n",
              "      <td>0</td>\n",
              "      <td>0</td>\n",
              "      <td>0</td>\n",
              "      <td>0</td>\n",
              "      <td>0</td>\n",
              "      <td>0</td>\n",
              "      <td>0</td>\n",
              "      <td>0</td>\n",
              "      <td>0</td>\n",
              "      <td>0</td>\n",
              "      <td>0</td>\n",
              "      <td>0</td>\n",
              "      <td>0</td>\n",
              "      <td>0</td>\n",
              "      <td>0</td>\n",
              "      <td>NaN</td>\n",
              "      <td>0</td>\n",
              "      <td>0</td>\n",
              "      <td>0</td>\n",
              "      <td>0</td>\n",
              "      <td>0</td>\n",
              "      <td>0</td>\n",
              "      <td>0</td>\n",
              "      <td>0</td>\n",
              "      <td>0</td>\n",
              "      <td>0</td>\n",
              "      <td>0</td>\n",
              "      <td>0</td>\n",
              "      <td>0</td>\n",
              "      <td>0</td>\n",
              "      <td>0</td>\n",
              "      <td>0</td>\n",
              "      <td>0</td>\n",
              "      <td>0</td>\n",
              "      <td>0</td>\n",
              "      <td>0</td>\n",
              "      <td>0</td>\n",
              "      <td>0</td>\n",
              "      <td>0</td>\n",
              "      <td>0</td>\n",
              "      <td>0</td>\n",
              "      <td>0</td>\n",
              "      <td>0</td>\n",
              "      <td>0</td>\n",
              "      <td>0</td>\n",
              "      <td>0</td>\n",
              "      <td>0</td>\n",
              "      <td>0</td>\n",
              "      <td>0</td>\n",
              "      <td>0</td>\n",
              "      <td>0</td>\n",
              "      <td>0</td>\n",
              "      <td>0</td>\n",
              "      <td>0</td>\n",
              "      <td>0</td>\n",
              "      <td>0</td>\n",
              "      <td>0</td>\n",
              "      <td>0</td>\n",
              "      <td>0</td>\n",
              "      <td>0</td>\n",
              "      <td>0</td>\n",
              "      <td>0</td>\n",
              "      <td>0</td>\n",
              "      <td>0</td>\n",
              "      <td>0</td>\n",
              "      <td>0</td>\n",
              "      <td>0</td>\n",
              "      <td>0</td>\n",
              "      <td>0</td>\n",
              "      <td>0</td>\n",
              "      <td>0</td>\n",
              "      <td>0</td>\n",
              "      <td>0</td>\n",
              "      <td>0</td>\n",
              "      <td>0</td>\n",
              "      <td>0</td>\n",
              "      <td>0</td>\n",
              "      <td>0</td>\n",
              "      <td>0</td>\n",
              "      <td>0</td>\n",
              "      <td>0</td>\n",
              "      <td>0</td>\n",
              "      <td>0</td>\n",
              "      <td>0</td>\n",
              "      <td>0</td>\n",
              "      <td>0</td>\n",
              "      <td>0</td>\n",
              "      <td>0</td>\n",
              "      <td>0</td>\n",
              "      <td>NaN</td>\n",
              "      <td>0</td>\n",
              "      <td>0</td>\n",
              "      <td>0</td>\n",
              "      <td>0</td>\n",
              "      <td>0</td>\n",
              "      <td>0</td>\n",
              "      <td>0</td>\n",
              "      <td>0</td>\n",
              "      <td>0</td>\n",
              "      <td>0</td>\n",
              "      <td>0</td>\n",
              "      <td>0</td>\n",
              "      <td>0</td>\n",
              "      <td>0</td>\n",
              "      <td>0</td>\n",
              "      <td>1</td>\n",
              "      <td>Ainda não conhecia o Data Hackers</td>\n",
              "      <td>0</td>\n",
              "      <td>0</td>\n",
              "      <td>1</td>\n",
              "      <td>0</td>\n",
              "      <td>0</td>\n",
              "      <td>0</td>\n",
              "      <td>0</td>\n",
              "      <td>0</td>\n",
              "      <td>0</td>\n",
              "      <td>0</td>\n",
              "      <td>0</td>\n",
              "      <td>0</td>\n",
              "      <td>0</td>\n",
              "      <td>0</td>\n",
              "      <td>0</td>\n",
              "      <td>0</td>\n",
              "      <td>0</td>\n",
              "      <td>0</td>\n",
              "      <td>0</td>\n",
              "      <td>1</td>\n",
              "      <td>0</td>\n",
              "      <td>Nunca fiz cursos online</td>\n",
              "      <td>NaN</td>\n",
              "      <td>1.0</td>\n",
              "      <td>Região Sudeste</td>\n",
              "      <td>NaN</td>\n",
              "      <td>Computação / Engenharia de Software / Sistemas...</td>\n",
              "      <td>Outras</td>\n",
              "      <td>NaN</td>\n",
              "      <td>Outras</td>\n",
              "    </tr>\n",
              "    <tr>\n",
              "      <th>1</th>\n",
              "      <td>875ul998t0hqcv0871uptwf3oswcfv35</td>\n",
              "      <td>24.0</td>\n",
              "      <td>Feminino</td>\n",
              "      <td>1</td>\n",
              "      <td>São Paulo (SP)</td>\n",
              "      <td>1.0</td>\n",
              "      <td>Estudante de Graduação</td>\n",
              "      <td>Empregado (CTL)</td>\n",
              "      <td>Acima de 3000</td>\n",
              "      <td>0.0</td>\n",
              "      <td>de R$ 2.001/mês a R$ 3000/mês</td>\n",
              "      <td>Menos de 1 ano</td>\n",
              "      <td>Não tive experiência na área de TI/Engenharia ...</td>\n",
              "      <td>1</td>\n",
              "      <td>0</td>\n",
              "      <td>0</td>\n",
              "      <td>0</td>\n",
              "      <td>0</td>\n",
              "      <td>0</td>\n",
              "      <td>0</td>\n",
              "      <td>0</td>\n",
              "      <td>0</td>\n",
              "      <td>0</td>\n",
              "      <td>0</td>\n",
              "      <td>0</td>\n",
              "      <td>0</td>\n",
              "      <td>0</td>\n",
              "      <td>0</td>\n",
              "      <td>0</td>\n",
              "      <td>0</td>\n",
              "      <td>0</td>\n",
              "      <td>0</td>\n",
              "      <td>0</td>\n",
              "      <td>0</td>\n",
              "      <td>1</td>\n",
              "      <td>1</td>\n",
              "      <td>0</td>\n",
              "      <td>1</td>\n",
              "      <td>0</td>\n",
              "      <td>0</td>\n",
              "      <td>0</td>\n",
              "      <td>0</td>\n",
              "      <td>0</td>\n",
              "      <td>0</td>\n",
              "      <td>0</td>\n",
              "      <td>0</td>\n",
              "      <td>0</td>\n",
              "      <td>0</td>\n",
              "      <td>Python</td>\n",
              "      <td>1</td>\n",
              "      <td>0</td>\n",
              "      <td>0</td>\n",
              "      <td>0</td>\n",
              "      <td>0</td>\n",
              "      <td>0</td>\n",
              "      <td>0</td>\n",
              "      <td>1</td>\n",
              "      <td>0</td>\n",
              "      <td>0</td>\n",
              "      <td>0</td>\n",
              "      <td>0</td>\n",
              "      <td>0</td>\n",
              "      <td>0</td>\n",
              "      <td>1</td>\n",
              "      <td>0</td>\n",
              "      <td>0</td>\n",
              "      <td>0</td>\n",
              "      <td>0</td>\n",
              "      <td>0</td>\n",
              "      <td>0</td>\n",
              "      <td>0</td>\n",
              "      <td>1</td>\n",
              "      <td>0</td>\n",
              "      <td>0</td>\n",
              "      <td>0</td>\n",
              "      <td>0</td>\n",
              "      <td>0</td>\n",
              "      <td>0</td>\n",
              "      <td>0</td>\n",
              "      <td>0</td>\n",
              "      <td>1</td>\n",
              "      <td>0</td>\n",
              "      <td>0</td>\n",
              "      <td>0</td>\n",
              "      <td>0</td>\n",
              "      <td>0</td>\n",
              "      <td>0</td>\n",
              "      <td>0</td>\n",
              "      <td>0</td>\n",
              "      <td>0</td>\n",
              "      <td>0</td>\n",
              "      <td>0</td>\n",
              "      <td>0</td>\n",
              "      <td>0</td>\n",
              "      <td>1</td>\n",
              "      <td>0</td>\n",
              "      <td>0</td>\n",
              "      <td>0</td>\n",
              "      <td>0</td>\n",
              "      <td>0</td>\n",
              "      <td>0</td>\n",
              "      <td>0</td>\n",
              "      <td>0</td>\n",
              "      <td>0</td>\n",
              "      <td>0</td>\n",
              "      <td>0</td>\n",
              "      <td>0</td>\n",
              "      <td>0</td>\n",
              "      <td>0</td>\n",
              "      <td>0</td>\n",
              "      <td>1</td>\n",
              "      <td>0</td>\n",
              "      <td>0</td>\n",
              "      <td>0</td>\n",
              "      <td>0</td>\n",
              "      <td>0</td>\n",
              "      <td>0</td>\n",
              "      <td>0</td>\n",
              "      <td>0</td>\n",
              "      <td>0</td>\n",
              "      <td>0</td>\n",
              "      <td>0</td>\n",
              "      <td>0.0</td>\n",
              "      <td>0</td>\n",
              "      <td>0</td>\n",
              "      <td>0</td>\n",
              "      <td>0</td>\n",
              "      <td>0</td>\n",
              "      <td>0</td>\n",
              "      <td>0</td>\n",
              "      <td>0</td>\n",
              "      <td>0</td>\n",
              "      <td>0</td>\n",
              "      <td>0</td>\n",
              "      <td>0</td>\n",
              "      <td>0</td>\n",
              "      <td>0</td>\n",
              "      <td>0</td>\n",
              "      <td>1</td>\n",
              "      <td>Ainda não conhecia o Data Hackers</td>\n",
              "      <td>0</td>\n",
              "      <td>0</td>\n",
              "      <td>1</td>\n",
              "      <td>0</td>\n",
              "      <td>0</td>\n",
              "      <td>0</td>\n",
              "      <td>0</td>\n",
              "      <td>0</td>\n",
              "      <td>0</td>\n",
              "      <td>0</td>\n",
              "      <td>0</td>\n",
              "      <td>0</td>\n",
              "      <td>0</td>\n",
              "      <td>1</td>\n",
              "      <td>0</td>\n",
              "      <td>0</td>\n",
              "      <td>0</td>\n",
              "      <td>0</td>\n",
              "      <td>0</td>\n",
              "      <td>0</td>\n",
              "      <td>1</td>\n",
              "      <td>NaN</td>\n",
              "      <td>Data Science Academy</td>\n",
              "      <td>0.0</td>\n",
              "      <td>Região Sudeste</td>\n",
              "      <td>NaN</td>\n",
              "      <td>Computação / Engenharia de Software / Sistemas...</td>\n",
              "      <td>Educação</td>\n",
              "      <td>NaN</td>\n",
              "      <td>Data Analyst/Analista de Dados</td>\n",
              "    </tr>\n",
              "    <tr>\n",
              "      <th>2</th>\n",
              "      <td>puscuk079vw1pusbb900pzw2xvpxtgdk</td>\n",
              "      <td>26.0</td>\n",
              "      <td>Masculino</td>\n",
              "      <td>1</td>\n",
              "      <td>São Paulo (SP)</td>\n",
              "      <td>1.0</td>\n",
              "      <td>Graduação/Bacharelado</td>\n",
              "      <td>Empregado (CTL)</td>\n",
              "      <td>Acima de 3000</td>\n",
              "      <td>0.0</td>\n",
              "      <td>de R$ 4.001/mês a R$ 6.000/mês</td>\n",
              "      <td>de 1 a 2 anos</td>\n",
              "      <td>de 6 a 10 anos</td>\n",
              "      <td>1</td>\n",
              "      <td>0</td>\n",
              "      <td>0</td>\n",
              "      <td>0</td>\n",
              "      <td>0</td>\n",
              "      <td>1</td>\n",
              "      <td>1</td>\n",
              "      <td>0</td>\n",
              "      <td>1</td>\n",
              "      <td>1</td>\n",
              "      <td>0</td>\n",
              "      <td>0</td>\n",
              "      <td>0</td>\n",
              "      <td>0</td>\n",
              "      <td>0</td>\n",
              "      <td>0</td>\n",
              "      <td>0</td>\n",
              "      <td>1</td>\n",
              "      <td>0</td>\n",
              "      <td>0</td>\n",
              "      <td>0</td>\n",
              "      <td>0</td>\n",
              "      <td>0</td>\n",
              "      <td>0</td>\n",
              "      <td>1</td>\n",
              "      <td>0</td>\n",
              "      <td>0</td>\n",
              "      <td>0</td>\n",
              "      <td>0</td>\n",
              "      <td>0</td>\n",
              "      <td>0</td>\n",
              "      <td>0</td>\n",
              "      <td>0</td>\n",
              "      <td>0</td>\n",
              "      <td>0</td>\n",
              "      <td>Python</td>\n",
              "      <td>0</td>\n",
              "      <td>0</td>\n",
              "      <td>0</td>\n",
              "      <td>0</td>\n",
              "      <td>0</td>\n",
              "      <td>1</td>\n",
              "      <td>0</td>\n",
              "      <td>0</td>\n",
              "      <td>0</td>\n",
              "      <td>0</td>\n",
              "      <td>0</td>\n",
              "      <td>0</td>\n",
              "      <td>1</td>\n",
              "      <td>0</td>\n",
              "      <td>0</td>\n",
              "      <td>0</td>\n",
              "      <td>0</td>\n",
              "      <td>0</td>\n",
              "      <td>0</td>\n",
              "      <td>1</td>\n",
              "      <td>0</td>\n",
              "      <td>0</td>\n",
              "      <td>0</td>\n",
              "      <td>0</td>\n",
              "      <td>0</td>\n",
              "      <td>0</td>\n",
              "      <td>0</td>\n",
              "      <td>0</td>\n",
              "      <td>0</td>\n",
              "      <td>0</td>\n",
              "      <td>0</td>\n",
              "      <td>0</td>\n",
              "      <td>0</td>\n",
              "      <td>0</td>\n",
              "      <td>0</td>\n",
              "      <td>0</td>\n",
              "      <td>0</td>\n",
              "      <td>0</td>\n",
              "      <td>0</td>\n",
              "      <td>0</td>\n",
              "      <td>0</td>\n",
              "      <td>0</td>\n",
              "      <td>0</td>\n",
              "      <td>0</td>\n",
              "      <td>1</td>\n",
              "      <td>0</td>\n",
              "      <td>0</td>\n",
              "      <td>1</td>\n",
              "      <td>0</td>\n",
              "      <td>0</td>\n",
              "      <td>0</td>\n",
              "      <td>0</td>\n",
              "      <td>0</td>\n",
              "      <td>0</td>\n",
              "      <td>0</td>\n",
              "      <td>0</td>\n",
              "      <td>0</td>\n",
              "      <td>0</td>\n",
              "      <td>0</td>\n",
              "      <td>0</td>\n",
              "      <td>0</td>\n",
              "      <td>0</td>\n",
              "      <td>0</td>\n",
              "      <td>0</td>\n",
              "      <td>0</td>\n",
              "      <td>0</td>\n",
              "      <td>0</td>\n",
              "      <td>0</td>\n",
              "      <td>0</td>\n",
              "      <td>0</td>\n",
              "      <td>0</td>\n",
              "      <td>0</td>\n",
              "      <td>1</td>\n",
              "      <td>0.0</td>\n",
              "      <td>0</td>\n",
              "      <td>0</td>\n",
              "      <td>0</td>\n",
              "      <td>0</td>\n",
              "      <td>0</td>\n",
              "      <td>0</td>\n",
              "      <td>0</td>\n",
              "      <td>0</td>\n",
              "      <td>0</td>\n",
              "      <td>0</td>\n",
              "      <td>0</td>\n",
              "      <td>1</td>\n",
              "      <td>1</td>\n",
              "      <td>0</td>\n",
              "      <td>0</td>\n",
              "      <td>0</td>\n",
              "      <td>Newsletter Semanal</td>\n",
              "      <td>0</td>\n",
              "      <td>0</td>\n",
              "      <td>0</td>\n",
              "      <td>1</td>\n",
              "      <td>0</td>\n",
              "      <td>0</td>\n",
              "      <td>0</td>\n",
              "      <td>0</td>\n",
              "      <td>0</td>\n",
              "      <td>0</td>\n",
              "      <td>0</td>\n",
              "      <td>0</td>\n",
              "      <td>1</td>\n",
              "      <td>1</td>\n",
              "      <td>0</td>\n",
              "      <td>0</td>\n",
              "      <td>0</td>\n",
              "      <td>0</td>\n",
              "      <td>1</td>\n",
              "      <td>0</td>\n",
              "      <td>0</td>\n",
              "      <td>Udemy</td>\n",
              "      <td>NaN</td>\n",
              "      <td>1.0</td>\n",
              "      <td>Região Sudeste</td>\n",
              "      <td>NaN</td>\n",
              "      <td>Outras Engenharias</td>\n",
              "      <td>Indústria (Manufatura)</td>\n",
              "      <td>NaN</td>\n",
              "      <td>Outras</td>\n",
              "    </tr>\n",
              "    <tr>\n",
              "      <th>3</th>\n",
              "      <td>rmel8ewqpbffp2mnfbzermel8eqincov</td>\n",
              "      <td>21.0</td>\n",
              "      <td>Masculino</td>\n",
              "      <td>1</td>\n",
              "      <td>São Paulo (SP)</td>\n",
              "      <td>0.0</td>\n",
              "      <td>Estudante de Graduação</td>\n",
              "      <td>Estagiário</td>\n",
              "      <td>de 11 a 50</td>\n",
              "      <td>0.0</td>\n",
              "      <td>de R$ 1.001/mês a R$ 2.000/mês</td>\n",
              "      <td>Menos de 1 ano</td>\n",
              "      <td>de 2 a 3 anos</td>\n",
              "      <td>1</td>\n",
              "      <td>0</td>\n",
              "      <td>0</td>\n",
              "      <td>0</td>\n",
              "      <td>0</td>\n",
              "      <td>1</td>\n",
              "      <td>0</td>\n",
              "      <td>0</td>\n",
              "      <td>0</td>\n",
              "      <td>0</td>\n",
              "      <td>0</td>\n",
              "      <td>0</td>\n",
              "      <td>0</td>\n",
              "      <td>0</td>\n",
              "      <td>0</td>\n",
              "      <td>0</td>\n",
              "      <td>0</td>\n",
              "      <td>0</td>\n",
              "      <td>0</td>\n",
              "      <td>0</td>\n",
              "      <td>0</td>\n",
              "      <td>0</td>\n",
              "      <td>1</td>\n",
              "      <td>0</td>\n",
              "      <td>1</td>\n",
              "      <td>0</td>\n",
              "      <td>0</td>\n",
              "      <td>0</td>\n",
              "      <td>0</td>\n",
              "      <td>0</td>\n",
              "      <td>0</td>\n",
              "      <td>0</td>\n",
              "      <td>0</td>\n",
              "      <td>0</td>\n",
              "      <td>0</td>\n",
              "      <td>SQL</td>\n",
              "      <td>1</td>\n",
              "      <td>0</td>\n",
              "      <td>0</td>\n",
              "      <td>0</td>\n",
              "      <td>0</td>\n",
              "      <td>0</td>\n",
              "      <td>0</td>\n",
              "      <td>1</td>\n",
              "      <td>0</td>\n",
              "      <td>0</td>\n",
              "      <td>0</td>\n",
              "      <td>0</td>\n",
              "      <td>0</td>\n",
              "      <td>0</td>\n",
              "      <td>1</td>\n",
              "      <td>0</td>\n",
              "      <td>0</td>\n",
              "      <td>0</td>\n",
              "      <td>0</td>\n",
              "      <td>0</td>\n",
              "      <td>0</td>\n",
              "      <td>0</td>\n",
              "      <td>0</td>\n",
              "      <td>0</td>\n",
              "      <td>0</td>\n",
              "      <td>0</td>\n",
              "      <td>0</td>\n",
              "      <td>0</td>\n",
              "      <td>0</td>\n",
              "      <td>0</td>\n",
              "      <td>0</td>\n",
              "      <td>0</td>\n",
              "      <td>0</td>\n",
              "      <td>0</td>\n",
              "      <td>0</td>\n",
              "      <td>0</td>\n",
              "      <td>0</td>\n",
              "      <td>0</td>\n",
              "      <td>0</td>\n",
              "      <td>0</td>\n",
              "      <td>0</td>\n",
              "      <td>0</td>\n",
              "      <td>0</td>\n",
              "      <td>0</td>\n",
              "      <td>1</td>\n",
              "      <td>0</td>\n",
              "      <td>0</td>\n",
              "      <td>0</td>\n",
              "      <td>0</td>\n",
              "      <td>0</td>\n",
              "      <td>0</td>\n",
              "      <td>0</td>\n",
              "      <td>0</td>\n",
              "      <td>0</td>\n",
              "      <td>0</td>\n",
              "      <td>0</td>\n",
              "      <td>0</td>\n",
              "      <td>0</td>\n",
              "      <td>0</td>\n",
              "      <td>0</td>\n",
              "      <td>1</td>\n",
              "      <td>0</td>\n",
              "      <td>0</td>\n",
              "      <td>0</td>\n",
              "      <td>0</td>\n",
              "      <td>0</td>\n",
              "      <td>1</td>\n",
              "      <td>0</td>\n",
              "      <td>0</td>\n",
              "      <td>0</td>\n",
              "      <td>0</td>\n",
              "      <td>0</td>\n",
              "      <td>0</td>\n",
              "      <td>1.0</td>\n",
              "      <td>0</td>\n",
              "      <td>1</td>\n",
              "      <td>0</td>\n",
              "      <td>0</td>\n",
              "      <td>0</td>\n",
              "      <td>0</td>\n",
              "      <td>0</td>\n",
              "      <td>0</td>\n",
              "      <td>0</td>\n",
              "      <td>0</td>\n",
              "      <td>0</td>\n",
              "      <td>0</td>\n",
              "      <td>0</td>\n",
              "      <td>0</td>\n",
              "      <td>0</td>\n",
              "      <td>1</td>\n",
              "      <td>Ainda não conhecia o Data Hackers</td>\n",
              "      <td>0</td>\n",
              "      <td>1</td>\n",
              "      <td>0</td>\n",
              "      <td>0</td>\n",
              "      <td>0</td>\n",
              "      <td>0</td>\n",
              "      <td>0</td>\n",
              "      <td>1</td>\n",
              "      <td>0</td>\n",
              "      <td>0</td>\n",
              "      <td>0</td>\n",
              "      <td>0</td>\n",
              "      <td>1</td>\n",
              "      <td>1</td>\n",
              "      <td>1</td>\n",
              "      <td>0</td>\n",
              "      <td>0</td>\n",
              "      <td>0</td>\n",
              "      <td>0</td>\n",
              "      <td>0</td>\n",
              "      <td>0</td>\n",
              "      <td>Alura</td>\n",
              "      <td>NaN</td>\n",
              "      <td>1.0</td>\n",
              "      <td>Região Sudeste</td>\n",
              "      <td>Região Sudeste</td>\n",
              "      <td>Computação / Engenharia de Software / Sistemas...</td>\n",
              "      <td>Tecnologia/Fábrica de Software</td>\n",
              "      <td>NaN</td>\n",
              "      <td>Business Intelligence/Analista de BI</td>\n",
              "    </tr>\n",
              "    <tr>\n",
              "      <th>4</th>\n",
              "      <td>pj9mgud4d6mdct1l7vq0pj9mgu78h6ju</td>\n",
              "      <td>27.0</td>\n",
              "      <td>Masculino</td>\n",
              "      <td>1</td>\n",
              "      <td>NaN</td>\n",
              "      <td>1.0</td>\n",
              "      <td>Graduação/Bacharelado</td>\n",
              "      <td>Freelancer</td>\n",
              "      <td>de 6 a 10</td>\n",
              "      <td>1.0</td>\n",
              "      <td>de R$ 6.001/mês a R$ 8.000/mês</td>\n",
              "      <td>de 4 a 5 anos</td>\n",
              "      <td>de 4 a 5 anos</td>\n",
              "      <td>1</td>\n",
              "      <td>1</td>\n",
              "      <td>0</td>\n",
              "      <td>0</td>\n",
              "      <td>1</td>\n",
              "      <td>1</td>\n",
              "      <td>0</td>\n",
              "      <td>0</td>\n",
              "      <td>1</td>\n",
              "      <td>1</td>\n",
              "      <td>0</td>\n",
              "      <td>1</td>\n",
              "      <td>0</td>\n",
              "      <td>0</td>\n",
              "      <td>0</td>\n",
              "      <td>1</td>\n",
              "      <td>0</td>\n",
              "      <td>0</td>\n",
              "      <td>0</td>\n",
              "      <td>0</td>\n",
              "      <td>0</td>\n",
              "      <td>0</td>\n",
              "      <td>1</td>\n",
              "      <td>0</td>\n",
              "      <td>1</td>\n",
              "      <td>1</td>\n",
              "      <td>0</td>\n",
              "      <td>0</td>\n",
              "      <td>0</td>\n",
              "      <td>0</td>\n",
              "      <td>0</td>\n",
              "      <td>0</td>\n",
              "      <td>0</td>\n",
              "      <td>0</td>\n",
              "      <td>0</td>\n",
              "      <td>Python</td>\n",
              "      <td>1</td>\n",
              "      <td>1</td>\n",
              "      <td>0</td>\n",
              "      <td>1</td>\n",
              "      <td>0</td>\n",
              "      <td>1</td>\n",
              "      <td>0</td>\n",
              "      <td>0</td>\n",
              "      <td>0</td>\n",
              "      <td>0</td>\n",
              "      <td>1</td>\n",
              "      <td>0</td>\n",
              "      <td>0</td>\n",
              "      <td>0</td>\n",
              "      <td>0</td>\n",
              "      <td>0</td>\n",
              "      <td>0</td>\n",
              "      <td>0</td>\n",
              "      <td>0</td>\n",
              "      <td>0</td>\n",
              "      <td>1</td>\n",
              "      <td>1</td>\n",
              "      <td>0</td>\n",
              "      <td>0</td>\n",
              "      <td>0</td>\n",
              "      <td>0</td>\n",
              "      <td>0</td>\n",
              "      <td>0</td>\n",
              "      <td>1</td>\n",
              "      <td>1</td>\n",
              "      <td>0</td>\n",
              "      <td>0</td>\n",
              "      <td>1</td>\n",
              "      <td>1</td>\n",
              "      <td>0</td>\n",
              "      <td>0</td>\n",
              "      <td>1</td>\n",
              "      <td>0</td>\n",
              "      <td>0</td>\n",
              "      <td>0</td>\n",
              "      <td>0</td>\n",
              "      <td>0</td>\n",
              "      <td>0</td>\n",
              "      <td>0</td>\n",
              "      <td>0</td>\n",
              "      <td>0</td>\n",
              "      <td>0</td>\n",
              "      <td>0</td>\n",
              "      <td>0</td>\n",
              "      <td>0</td>\n",
              "      <td>0</td>\n",
              "      <td>0</td>\n",
              "      <td>0</td>\n",
              "      <td>0</td>\n",
              "      <td>0</td>\n",
              "      <td>0</td>\n",
              "      <td>0</td>\n",
              "      <td>0</td>\n",
              "      <td>0</td>\n",
              "      <td>1</td>\n",
              "      <td>0</td>\n",
              "      <td>0</td>\n",
              "      <td>0</td>\n",
              "      <td>0</td>\n",
              "      <td>0</td>\n",
              "      <td>0</td>\n",
              "      <td>0</td>\n",
              "      <td>0</td>\n",
              "      <td>0</td>\n",
              "      <td>0</td>\n",
              "      <td>0</td>\n",
              "      <td>0</td>\n",
              "      <td>1</td>\n",
              "      <td>0.0</td>\n",
              "      <td>0</td>\n",
              "      <td>0</td>\n",
              "      <td>0</td>\n",
              "      <td>0</td>\n",
              "      <td>0</td>\n",
              "      <td>0</td>\n",
              "      <td>0</td>\n",
              "      <td>0</td>\n",
              "      <td>0</td>\n",
              "      <td>0</td>\n",
              "      <td>1</td>\n",
              "      <td>0</td>\n",
              "      <td>0</td>\n",
              "      <td>0</td>\n",
              "      <td>0</td>\n",
              "      <td>0</td>\n",
              "      <td>Blog/Medium do Data Hackers</td>\n",
              "      <td>0</td>\n",
              "      <td>0</td>\n",
              "      <td>0</td>\n",
              "      <td>0</td>\n",
              "      <td>0</td>\n",
              "      <td>0</td>\n",
              "      <td>0</td>\n",
              "      <td>0</td>\n",
              "      <td>0</td>\n",
              "      <td>0</td>\n",
              "      <td>1</td>\n",
              "      <td>1</td>\n",
              "      <td>1</td>\n",
              "      <td>1</td>\n",
              "      <td>0</td>\n",
              "      <td>0</td>\n",
              "      <td>0</td>\n",
              "      <td>0</td>\n",
              "      <td>0</td>\n",
              "      <td>0</td>\n",
              "      <td>0</td>\n",
              "      <td>Udemy</td>\n",
              "      <td>NaN</td>\n",
              "      <td>1.0</td>\n",
              "      <td>NaN</td>\n",
              "      <td>NaN</td>\n",
              "      <td>Computação / Engenharia de Software / Sistemas...</td>\n",
              "      <td>Internet/Ecommerce</td>\n",
              "      <td>C-level (CDO, CIO, CTO)</td>\n",
              "      <td>NaN</td>\n",
              "    </tr>\n",
              "  </tbody>\n",
              "</table>\n",
              "</div>\n",
              "      <button class=\"colab-df-convert\" onclick=\"convertToInteractive('df-41b0fae9-b16d-436c-8ee4-45b21108d34c')\"\n",
              "              title=\"Convert this dataframe to an interactive table.\"\n",
              "              style=\"display:none;\">\n",
              "\n",
              "  <svg xmlns=\"http://www.w3.org/2000/svg\" height=\"24px\"viewBox=\"0 0 24 24\"\n",
              "       width=\"24px\">\n",
              "    <path d=\"M0 0h24v24H0V0z\" fill=\"none\"/>\n",
              "    <path d=\"M18.56 5.44l.94 2.06.94-2.06 2.06-.94-2.06-.94-.94-2.06-.94 2.06-2.06.94zm-11 1L8.5 8.5l.94-2.06 2.06-.94-2.06-.94L8.5 2.5l-.94 2.06-2.06.94zm10 10l.94 2.06.94-2.06 2.06-.94-2.06-.94-.94-2.06-.94 2.06-2.06.94z\"/><path d=\"M17.41 7.96l-1.37-1.37c-.4-.4-.92-.59-1.43-.59-.52 0-1.04.2-1.43.59L10.3 9.45l-7.72 7.72c-.78.78-.78 2.05 0 2.83L4 21.41c.39.39.9.59 1.41.59.51 0 1.02-.2 1.41-.59l7.78-7.78 2.81-2.81c.8-.78.8-2.07 0-2.86zM5.41 20L4 18.59l7.72-7.72 1.47 1.35L5.41 20z\"/>\n",
              "  </svg>\n",
              "      </button>\n",
              "\n",
              "\n",
              "\n",
              "    <div id=\"df-6b17bc00-59cf-4ef6-935c-0550c5d878b5\">\n",
              "      <button class=\"colab-df-quickchart\" onclick=\"quickchart('df-6b17bc00-59cf-4ef6-935c-0550c5d878b5')\"\n",
              "              title=\"Suggest charts.\"\n",
              "              style=\"display:none;\">\n",
              "\n",
              "<svg xmlns=\"http://www.w3.org/2000/svg\" height=\"24px\"viewBox=\"0 0 24 24\"\n",
              "     width=\"24px\">\n",
              "    <g>\n",
              "        <path d=\"M19 3H5c-1.1 0-2 .9-2 2v14c0 1.1.9 2 2 2h14c1.1 0 2-.9 2-2V5c0-1.1-.9-2-2-2zM9 17H7v-7h2v7zm4 0h-2V7h2v10zm4 0h-2v-4h2v4z\"/>\n",
              "    </g>\n",
              "</svg>\n",
              "      </button>\n",
              "    </div>\n",
              "\n",
              "<style>\n",
              "  .colab-df-quickchart {\n",
              "    background-color: #E8F0FE;\n",
              "    border: none;\n",
              "    border-radius: 50%;\n",
              "    cursor: pointer;\n",
              "    display: none;\n",
              "    fill: #1967D2;\n",
              "    height: 32px;\n",
              "    padding: 0 0 0 0;\n",
              "    width: 32px;\n",
              "  }\n",
              "\n",
              "  .colab-df-quickchart:hover {\n",
              "    background-color: #E2EBFA;\n",
              "    box-shadow: 0px 1px 2px rgba(60, 64, 67, 0.3), 0px 1px 3px 1px rgba(60, 64, 67, 0.15);\n",
              "    fill: #174EA6;\n",
              "  }\n",
              "\n",
              "  [theme=dark] .colab-df-quickchart {\n",
              "    background-color: #3B4455;\n",
              "    fill: #D2E3FC;\n",
              "  }\n",
              "\n",
              "  [theme=dark] .colab-df-quickchart:hover {\n",
              "    background-color: #434B5C;\n",
              "    box-shadow: 0px 1px 3px 1px rgba(0, 0, 0, 0.15);\n",
              "    filter: drop-shadow(0px 1px 2px rgba(0, 0, 0, 0.3));\n",
              "    fill: #FFFFFF;\n",
              "  }\n",
              "</style>\n",
              "\n",
              "    <script>\n",
              "      async function quickchart(key) {\n",
              "        const containerElement = document.querySelector('#' + key);\n",
              "        const charts = await google.colab.kernel.invokeFunction(\n",
              "            'suggestCharts', [key], {});\n",
              "      }\n",
              "    </script>\n",
              "\n",
              "      <script>\n",
              "\n",
              "function displayQuickchartButton(domScope) {\n",
              "  let quickchartButtonEl =\n",
              "    domScope.querySelector('#df-6b17bc00-59cf-4ef6-935c-0550c5d878b5 button.colab-df-quickchart');\n",
              "  quickchartButtonEl.style.display =\n",
              "    google.colab.kernel.accessAllowed ? 'block' : 'none';\n",
              "}\n",
              "\n",
              "        displayQuickchartButton(document);\n",
              "      </script>\n",
              "      <style>\n",
              "    .colab-df-container {\n",
              "      display:flex;\n",
              "      flex-wrap:wrap;\n",
              "      gap: 12px;\n",
              "    }\n",
              "\n",
              "    .colab-df-convert {\n",
              "      background-color: #E8F0FE;\n",
              "      border: none;\n",
              "      border-radius: 50%;\n",
              "      cursor: pointer;\n",
              "      display: none;\n",
              "      fill: #1967D2;\n",
              "      height: 32px;\n",
              "      padding: 0 0 0 0;\n",
              "      width: 32px;\n",
              "    }\n",
              "\n",
              "    .colab-df-convert:hover {\n",
              "      background-color: #E2EBFA;\n",
              "      box-shadow: 0px 1px 2px rgba(60, 64, 67, 0.3), 0px 1px 3px 1px rgba(60, 64, 67, 0.15);\n",
              "      fill: #174EA6;\n",
              "    }\n",
              "\n",
              "    [theme=dark] .colab-df-convert {\n",
              "      background-color: #3B4455;\n",
              "      fill: #D2E3FC;\n",
              "    }\n",
              "\n",
              "    [theme=dark] .colab-df-convert:hover {\n",
              "      background-color: #434B5C;\n",
              "      box-shadow: 0px 1px 3px 1px rgba(0, 0, 0, 0.15);\n",
              "      filter: drop-shadow(0px 1px 2px rgba(0, 0, 0, 0.3));\n",
              "      fill: #FFFFFF;\n",
              "    }\n",
              "  </style>\n",
              "\n",
              "      <script>\n",
              "        const buttonEl =\n",
              "          document.querySelector('#df-41b0fae9-b16d-436c-8ee4-45b21108d34c button.colab-df-convert');\n",
              "        buttonEl.style.display =\n",
              "          google.colab.kernel.accessAllowed ? 'block' : 'none';\n",
              "\n",
              "        async function convertToInteractive(key) {\n",
              "          const element = document.querySelector('#df-41b0fae9-b16d-436c-8ee4-45b21108d34c');\n",
              "          const dataTable =\n",
              "            await google.colab.kernel.invokeFunction('convertToInteractive',\n",
              "                                                     [key], {});\n",
              "          if (!dataTable) return;\n",
              "\n",
              "          const docLinkHtml = 'Like what you see? Visit the ' +\n",
              "            '<a target=\"_blank\" href=https://colab.research.google.com/notebooks/data_table.ipynb>data table notebook</a>'\n",
              "            + ' to learn more about interactive tables.';\n",
              "          element.innerHTML = '';\n",
              "          dataTable['output_type'] = 'display_data';\n",
              "          await google.colab.output.renderOutput(dataTable, element);\n",
              "          const docLink = document.createElement('div');\n",
              "          docLink.innerHTML = docLinkHtml;\n",
              "          element.appendChild(docLink);\n",
              "        }\n",
              "      </script>\n",
              "    </div>\n",
              "  </div>\n"
            ]
          },
          "metadata": {},
          "execution_count": 6
        }
      ]
    },
    {
      "cell_type": "markdown",
      "source": [
        "Aqui temos mais detalhes sobre o arquivo, em dtypes podemos ver que há 5 variáveis do tipo número real, 146 do tipo número inteiro e 19 do tipo objeto/string."
      ],
      "metadata": {
        "id": "ObWguUHeZTBv"
      }
    },
    {
      "cell_type": "code",
      "source": [
        "# Algumas informações gerais do arquivo\n",
        "dados.info()"
      ],
      "metadata": {
        "colab": {
          "base_uri": "https://localhost:8080/"
        },
        "id": "JYm-ExXQnmOu",
        "outputId": "6a5784b6-6590-4664-ce5b-c7788a273aa8"
      },
      "execution_count": 7,
      "outputs": [
        {
          "output_type": "stream",
          "name": "stdout",
          "text": [
            "<class 'pandas.core.frame.DataFrame'>\n",
            "RangeIndex: 1765 entries, 0 to 1764\n",
            "Columns: 170 entries, ('P0', 'id') to ('D6', 'anonymized_role')\n",
            "dtypes: float64(5), int64(146), object(19)\n",
            "memory usage: 2.3+ MB\n"
          ]
        }
      ]
    },
    {
      "cell_type": "markdown",
      "source": [
        "### **Verificando Dados Nulos**"
      ],
      "metadata": {
        "id": "VMhI1aK6KXfG"
      }
    },
    {
      "cell_type": "markdown",
      "source": [
        "Para todo e qualquer conjunto de dados a ser analisado, é importante identificar se há dados nulos. Pois, dependendo da quantidade de nulos, e da variável que for, a análise torna-se inválida.\n",
        "\n",
        "O motivo para ter dados nulos pode ser porque ao disponibilizar os dados tiveram que retirar alguns deles, ou pode ser porque não conseguiram obter tais dados, ou ainda tiveram algum problema de armazenamento.\n",
        "\n",
        "No conjunto de dados em questão, temos que:\n",
        "- As variáveis Gender, Draw Participation, Age, Born ou Graduated e Anonymized Degree Area tem entre 0% e 1% de dados faltantes, o que é muito bom.\n",
        "- As variáveis Data Science Plataforms Preference, Workers Number, Manager, Salary Range e Anonymized Market Sector estão entre 7% e 13% dos dados faltantes, o que ainda é aceitável.\n",
        "- As variáveis Living State, Living Macroregion e a Anonymized Role  então entre 19% e 29% dos dados faltantes, o que é preocupante mas ainda assim não impede a análise.\n",
        "- As variáveis Most Used Proggraming Languages, Have Data Warehouse, Origin Macroregion, Anonymized Manager Level e outros estão com porcentagens bem altas entre 48% e 82% o que inviabiliza a análise.\n",
        "\n",
        "Lembrando que a porcentagem de viabilidade não é regra, o que torna a variável viável ou não é a proporção em relação ao total de dados. Nesse caso, 20% de 1765 é considerável, mas ainda viável, já 80% de 1765 fica impossível a análise, a amostra não seria representativa.\n"
      ],
      "metadata": {
        "id": "-JyK-XF1dcel"
      }
    },
    {
      "cell_type": "code",
      "source": [
        "# Verificando a integridade dos dados\n",
        "# Isolando os dados nulos para quantificá-los. Ordenando pela média, asssim podemos ver a porcentagem de cada variável\n",
        "dados.isnull().mean()[dados.isnull().mean() != 0].sort_values()"
      ],
      "metadata": {
        "colab": {
          "base_uri": "https://localhost:8080/"
        },
        "id": "RcRLkzYxoasJ",
        "outputId": "1b75b522-2fe5-4408-c1b8-61f526729fca"
      },
      "execution_count": 8,
      "outputs": [
        {
          "output_type": "execute_result",
          "data": {
            "text/plain": [
              "('P2', 'gender')                                 0.001700\n",
              "('P36', 'draw_participation')                    0.002266\n",
              "('P1', 'age')                                    0.013598\n",
              "('P6', 'born_or_graduated')                      0.019263\n",
              "('D3', 'anonymized_degree_area')                 0.019830\n",
              "('P35', 'data_science_plataforms_preference')    0.079320\n",
              "('P12', 'workers_number')                        0.134844\n",
              "('P13', 'manager')                               0.134844\n",
              "('P16', 'salary_range')                          0.134844\n",
              "('D4', 'anonymized_market_sector')               0.137677\n",
              "('P5', 'living_state')                           0.190935\n",
              "('D1', 'living_macroregion')                     0.190935\n",
              "('D6', 'anonymized_role')                        0.291218\n",
              "('P22', 'most_used_proggraming_languages')       0.486686\n",
              "('P29', 'have_data_warehouse')                   0.550708\n",
              "('D2', 'origin_macroregion')                     0.815864\n",
              "('D5', 'anonymized_manager_level')               0.827195\n",
              "('P35', 'other')                                 0.920680\n",
              "dtype: float64"
            ]
          },
          "metadata": {},
          "execution_count": 8
        }
      ]
    },
    {
      "cell_type": "markdown",
      "source": [
        "### **Tratamento Variável Profissões**"
      ],
      "metadata": {
        "id": "uO5wfP3jKf0U"
      }
    },
    {
      "cell_type": "markdown",
      "source": [
        "Iniciando o tratamento dos dados pela variável que nos diz quais profissões os entrevistados responderam ter (Questão D6 - Anonymized Role).\n",
        "\n",
        "Temos uma lista com profissões variadas da área de dados. Mas sabemos que algumas, mesmo que tenham o nome diferente, no dia-a-dia praticam tarefas similares. Então, em seguida foi feito o agrupamento das que são similares, e das que não vamos analisar agora. Sendo que as variáveis continuam sendo categóricas, mas agora menores."
      ],
      "metadata": {
        "id": "fq-Q9YA5yApx"
      }
    },
    {
      "cell_type": "code",
      "source": [
        "dados[\"('D6', 'anonymized_role')\"].value_counts().sort_values()"
      ],
      "metadata": {
        "colab": {
          "base_uri": "https://localhost:8080/"
        },
        "id": "L7s2fx8cdbrD",
        "outputId": "4b297f83-14b3-4a20-cd3d-bae648acb50a"
      },
      "execution_count": 9,
      "outputs": [
        {
          "output_type": "execute_result",
          "data": {
            "text/plain": [
              "Economista                                  10\n",
              "Estatístico                                 11\n",
              "DBA/Administrador de Banco de Dados         14\n",
              "Engenheiro de Machine Learning              15\n",
              "Analista de Marketing                       19\n",
              "Engenheiro                                  26\n",
              "Analista de Inteligência de Mercado         29\n",
              "Business Analyst/Analista de Negócios       72\n",
              "Data Engineer/Engenheiro de Dados          130\n",
              "Business Intelligence/Analista de BI       150\n",
              "Data Analyst/Analista de Dados             163\n",
              "Data Scientist/Cientista de Dados          167\n",
              "Outras                                     220\n",
              "Desenvolvedor ou Engenheiro de Software    225\n",
              "Name: ('D6', 'anonymized_role'), dtype: int64"
            ]
          },
          "metadata": {},
          "execution_count": 9
        }
      ]
    },
    {
      "cell_type": "code",
      "source": [
        "profmap = {'Desenvolvedor ou Engenheiro de Software' : 'Desenvolvedor ou Engenheiro de Software',\n",
        "                                            'Outras' : 'Outras',\n",
        "                 'Data Scientist/Cientista de Dados' : 'Cientista de Dados',\n",
        "                    'Data Analyst/Analista de Dados' : 'Analista de Dados',\n",
        "              'Business Intelligence/Analista de BI' : 'Analista de BI',\n",
        "                 'Data Engineer/Engenheiro de Dados' : 'Engenheiro de Dados',\n",
        "             'Business Analyst/Analista de Negócios' : 'Analista de BI',\n",
        "               'Analista de Inteligência de Mercado' : 'Analista de BI',\n",
        "                                        'Engenheiro' : 'Outras',\n",
        "                             'Analista de Marketing' : 'Outras',\n",
        "                    'Engenheiro de Machine Learning' : 'Cientista de Dados',\n",
        "               'DBA/Administrador de Banco de Dados' : 'Engenheiro de Dados',\n",
        "                                       'Estatístico' : 'Cientista de Dados',\n",
        "                                        'Economista' : 'Outras'}\n",
        "\n",
        "dados['profissao'] = dados[\"('D6', 'anonymized_role')\"].map(profmap)"
      ],
      "metadata": {
        "id": "y7MctXJQycYg"
      },
      "execution_count": 10,
      "outputs": []
    },
    {
      "cell_type": "markdown",
      "source": [
        "Verificamos no gráfico que a análise ficará mais fácil, já que temos menos categorias, e essas estão com números mais significativos."
      ],
      "metadata": {
        "id": "8Xtuo33MK9LA"
      }
    },
    {
      "cell_type": "code",
      "source": [
        "dados['profissao'].value_counts().plot(kind = 'barh')"
      ],
      "metadata": {
        "colab": {
          "base_uri": "https://localhost:8080/",
          "height": 448
        },
        "id": "Y6iH3NCXIRBi",
        "outputId": "bd62947a-a49d-4d11-b69f-a62e2a70daed"
      },
      "execution_count": 11,
      "outputs": [
        {
          "output_type": "execute_result",
          "data": {
            "text/plain": [
              "<Axes: >"
            ]
          },
          "metadata": {},
          "execution_count": 11
        },
        {
          "output_type": "display_data",
          "data": {
            "text/plain": [
              "<Figure size 640x480 with 1 Axes>"
            ],
            "image/png": "[encoded data removed]"
          },
          "metadata": {}
        }
      ]
    },
    {
      "cell_type": "markdown",
      "source": [
        "### **Tratamento Variável Salário**"
      ],
      "metadata": {
        "id": "x4Ps3kY8LLOz"
      }
    },
    {
      "cell_type": "markdown",
      "source": [
        "Nesta variável temos o mesmo desafio da variável profissões, muitas categorias, e ainda em formato categórico, ou seja, não conseguiríamos fazer uma média salarial. (P16 - Qual sua faixa salarial atual? [Mascarada])\n",
        "\n",
        "Portanto vamos fazer o tratamento utilizando uma técnica de estatística, onde será aplicado um número médio para cada categoria, por exemplo, de RS1.001 a RS2.000, será o valor de R$1.500. E assim transformamos uma variável categórica em numérica."
      ],
      "metadata": {
        "id": "oA8qzWaQLoCV"
      }
    },
    {
      "cell_type": "code",
      "source": [
        "dados[\"('P16', 'salary_range')\"].value_counts()"
      ],
      "metadata": {
        "colab": {
          "base_uri": "https://localhost:8080/"
        },
        "id": "wxKx69RhIWTo",
        "outputId": "a321b462-4576-4d96-8633-a6ab7c1754b7"
      },
      "execution_count": 12,
      "outputs": [
        {
          "output_type": "execute_result",
          "data": {
            "text/plain": [
              "de R$ 4.001/mês a R$ 6.000/mês      308\n",
              "de R$ 8.001/mês a R$ 12.000/mês     237\n",
              "de R$ 6.001/mês a R$ 8.000/mês      229\n",
              "de R$ 3.001/mês a R$ 4.000/mês      219\n",
              "de R$ 1.001/mês a R$ 2.000/mês      181\n",
              "de R$ 2.001/mês a R$ 3000/mês       150\n",
              "de R$ 12.001/mês a R$ 16.000/mês     82\n",
              "Menos de R$ 1.000/mês                48\n",
              "de R$ 16.001/mês a R$ 20.000/mês     45\n",
              "de R$ 20.001/mês a R$ 25.000/mês     15\n",
              "Acima de R$ 25.001/mês               13\n",
              "Name: ('P16', 'salary_range'), dtype: int64"
            ]
          },
          "metadata": {},
          "execution_count": 12
        }
      ]
    },
    {
      "cell_type": "code",
      "source": [
        "salamap = {       'Menos de R$ 1.000/mês' : 1000,\n",
        "         'de R$ 1.001/mês a R$ 2.000/mês' : 1500,\n",
        "          'de R$ 2.001/mês a R$ 3000/mês' : 2500,\n",
        "         'de R$ 3.001/mês a R$ 4.000/mês' : 3500,\n",
        "         'de R$ 4.001/mês a R$ 6.000/mês' : 5000,\n",
        "         'de R$ 6.001/mês a R$ 8.000/mês' : 7000,\n",
        "        'de R$ 8.001/mês a R$ 12.000/mês' : 10000,\n",
        "       'de R$ 12.001/mês a R$ 16.000/mês' : 14000,\n",
        "       'de R$ 16.001/mês a R$ 20.000/mês' : 18000,\n",
        "       'de R$ 20.001/mês a R$ 25.000/mês' : 22500,\n",
        "                 'Acima de R$ 25.001/mês' : 25000}"
      ],
      "metadata": {
        "id": "C2IsUs9oLX9-"
      },
      "execution_count": 13,
      "outputs": []
    },
    {
      "cell_type": "markdown",
      "source": [
        "### **Tratamento Variável Tamanho de Empresa**"
      ],
      "metadata": {
        "id": "a-Xbp0jI3a7A"
      }
    },
    {
      "cell_type": "markdown",
      "source": [
        "Vamos diminuir as categorias desta variável, assim como fizemos com as Profissões. Colocando como empresas pequenas, as que têm até 100 funcionários, as médias de 101 à 1.000 funcionários e as grandes com mais de 1.000 funcionários. (P12 - A empresa em que você trabalha possui quantos funcionários atualmente?)"
      ],
      "metadata": {
        "id": "WLRfScuV3gFg"
      }
    },
    {
      "cell_type": "code",
      "source": [
        "tammap = {'de 1 a 5' : 'Pequena',\n",
        "          'de 6 a 10' : 'Pequena',\n",
        "          'de 11 a 50' : 'Pequena',\n",
        "          'de 51 a 100' : 'Pequena',\n",
        "          'de 101 a 500' : 'Média',\n",
        "          'de 501 a 1000' : 'Média',\n",
        "          'de 1001 a 3000' : 'Grande',\n",
        "          'Acima de 3000' : 'Grande'}"
      ],
      "metadata": {
        "id": "iqS4CLlM3F9Y"
      },
      "execution_count": 14,
      "outputs": []
    },
    {
      "cell_type": "markdown",
      "source": [
        "### **Tratamento Variável Idade**"
      ],
      "metadata": {
        "id": "fhLTYFep6wbX"
      }
    },
    {
      "cell_type": "markdown",
      "source": [
        "Agora temos uma variável numérica, mas muito ampla, então vamos aplicar a estratégia de cortes.\n",
        "Assim diminuímos as categorias, e ainda continua numérica."
      ],
      "metadata": {
        "id": "vkGfLydu6zcq"
      }
    },
    {
      "cell_type": "code",
      "source": [
        "cortes = [0, 24, 30, 40, 100]\n",
        "nomes = [ '[18, 24]', '[25,30]', '[31,40]', '[41,50]']"
      ],
      "metadata": {
        "id": "hE8lEYHR4QGU"
      },
      "execution_count": 15,
      "outputs": []
    },
    {
      "cell_type": "code",
      "source": [
        "dados['idade'] = pd.cut(dados[\"('P1', 'age')\"], bins = cortes, labels = nomes)"
      ],
      "metadata": {
        "id": "n75AIVhU7IR1"
      },
      "execution_count": 16,
      "outputs": []
    },
    {
      "cell_type": "markdown",
      "source": [
        "### **Tratamento dos Dados Gerais**"
      ],
      "metadata": {
        "id": "eCgGBW-S7mo_"
      }
    },
    {
      "cell_type": "markdown",
      "source": [
        "Somente para melhor compreensão dos dados, vamos passar os nomes das variáveis do inglês para o português."
      ],
      "metadata": {
        "id": "Xaw7SPtF7t8o"
      }
    },
    {
      "cell_type": "code",
      "source": [
        "\n",
        "dados['salario'] = dados[\"('P16', 'salary_range')\"].map(salamap)\n",
        "dados['tamanho_da_empresa'] = dados[\"('P12', 'workers_number')\"].map(tammap)\n",
        "\n",
        "dados['gestor'] = dados[\"('P13', 'manager')\"].map({0: 'não', 1: 'sim'})\n",
        "dados['se_considera_ds'] = dados[\"('P19', 'is_data_science_professional')\"].map({0: 'não', 1: 'sim'})\n",
        "\n",
        "dados['sexo'] = dados[\"('P2', 'gender')\"]\n",
        "dados['experiencia_ds'] = dados[\"('P17', 'time_experience_data_science')\"]\n",
        "\n",
        "dados['tipo_de_trabalho'] = dados[\"('P10', 'job_situation')\"]\n",
        "dados['escolaridade'] = dados[\"('P8', 'degreee_level')\"]\n",
        "\n",
        "dados['area_formacao'] = dados[\"('D3', 'anonymized_degree_area')\"]\n",
        "dados['setor_de_mercado'] = dados[\"('D4', 'anonymized_market_sector')\"]\n",
        "\n",
        "dados['plataforma_favorita'] = dados[\"('P35', 'data_science_plataforms_preference')\"]\n"
      ],
      "metadata": {
        "id": "dlCg7ZY-7Y5I"
      },
      "execution_count": 17,
      "outputs": []
    },
    {
      "cell_type": "markdown",
      "source": [
        "E agora conseguimos \"chamar\" as variáveis com o nome em português.\n",
        "\n",
        "E é possível também fazer a média dos salários, por exemplo. Vamos iniciar a responder as perguntas feitas no início do arquivo.\n"
      ],
      "metadata": {
        "id": "hJv8-zc5Za-k"
      }
    },
    {
      "cell_type": "markdown",
      "source": [
        "## **Análise dos Dados**"
      ],
      "metadata": {
        "id": "nRzXPsaMdJM_"
      }
    },
    {
      "cell_type": "markdown",
      "source": [
        "### **1. Qual o salário médio de um profissional de dados?**"
      ],
      "metadata": {
        "id": "imIqOh25aoGq"
      }
    },
    {
      "cell_type": "markdown",
      "source": [
        "#### **Em relação à profissão?**\n",
        "\n",
        "Aqui vamos fazer uma média do salário para cada profissão citada na pesquisa.\n",
        "\n",
        "E podemos ver que os salários de Analista de BI e de Analista de Dados são bem parecidos, ou seja, são profissiões parecidas no seu dia-a-dia.\n",
        "\n",
        "Vemos também que a média do salário mais alto é para Engenheiro de Dados, área que alimenta a área de Cientista de Dados, que é a segunda maior média de salários, segundo a pesquisa."
      ],
      "metadata": {
        "id": "lY7x1V52dTt0"
      }
    },
    {
      "cell_type": "code",
      "source": [
        "dados.groupby(['profissao']).mean()['salario'].round(2).sort_values()"
      ],
      "metadata": {
        "colab": {
          "base_uri": "https://localhost:8080/"
        },
        "id": "v2uuxrsj72RQ",
        "outputId": "94b27749-33c9-40f4-e6d4-b1a6b7005f5b"
      },
      "execution_count": 18,
      "outputs": [
        {
          "output_type": "stream",
          "name": "stderr",
          "text": [
            "<ipython-input-18-367446e6f095>:1: FutureWarning: The default value of numeric_only in DataFrameGroupBy.mean is deprecated. In a future version, numeric_only will default to False. Either specify numeric_only or select only columns which should be valid for the function.\n",
            "  dados.groupby(['profissao']).mean()['salario'].round(2).sort_values()\n"
          ]
        },
        {
          "output_type": "execute_result",
          "data": {
            "text/plain": [
              "profissao\n",
              "Outras                                     4854.55\n",
              "Analista de BI                             4978.09\n",
              "Analista de Dados                          5036.81\n",
              "Desenvolvedor ou Engenheiro de Software    5133.33\n",
              "Cientista de Dados                         6831.61\n",
              "Engenheiro de Dados                        7802.08\n",
              "Name: salario, dtype: float64"
            ]
          },
          "metadata": {},
          "execution_count": 18
        }
      ]
    },
    {
      "cell_type": "markdown",
      "source": [
        "#### **Em relação à idade?**\n",
        "\n",
        "Nota-se que a média salarial aumenta conforme a faixa de idade."
      ],
      "metadata": {
        "id": "MLSTQR5SePWt"
      }
    },
    {
      "cell_type": "code",
      "source": [
        "dados['salario'].groupby(dados['idade']).mean()"
      ],
      "metadata": {
        "colab": {
          "base_uri": "https://localhost:8080/"
        },
        "id": "GSVtr5_VeWZJ",
        "outputId": "e61608bc-8fd3-4239-f3c8-7b3f995596a0"
      },
      "execution_count": 19,
      "outputs": [
        {
          "output_type": "execute_result",
          "data": {
            "text/plain": [
              "idade\n",
              "[18, 24]    3083.333333\n",
              "[25,30]     5466.371681\n",
              "[31,40]     8417.159763\n",
              "[41,50]     9590.909091\n",
              "Name: salario, dtype: float64"
            ]
          },
          "metadata": {},
          "execution_count": 19
        }
      ]
    },
    {
      "cell_type": "markdown",
      "source": [
        "#### **Em relação à experiência?**\n",
        "\n",
        "Com isso percebemos que a idade, não é decisiva no salário, mas sim a experiência. Vemos que conforme a experiência aumenta, a média salarial também aumenta. Por exemplo, uma pessoa com 40 anos que ingressa agora no mercado de trabalho não entra recebendo RS8.000,00, mas sim algo entre R$3.000,00 e RS4.000,00."
      ],
      "metadata": {
        "id": "tXUNU2NDg0q0"
      }
    },
    {
      "cell_type": "code",
      "source": [
        "dados['salario'].groupby(dados['experiencia_ds']).mean().round(2).sort_values()"
      ],
      "metadata": {
        "colab": {
          "base_uri": "https://localhost:8080/"
        },
        "id": "9ZnbxLidfWPP",
        "outputId": "77c2e23c-0129-44a6-8ddc-48a76837dddf"
      },
      "execution_count": 20,
      "outputs": [
        {
          "output_type": "execute_result",
          "data": {
            "text/plain": [
              "experiencia_ds\n",
              "Menos de 1 ano                             3961.64\n",
              "Não tenho experiência na área de dados     4648.15\n",
              "de 1 a 2 anos                              5125.41\n",
              "de 2 a 3 anos                              6290.75\n",
              "de 4 a 5 anos                              8374.25\n",
              "de 6 a 10 anos                             9384.39\n",
              "Mais de 10 anos                           10711.54\n",
              "Name: salario, dtype: float64"
            ]
          },
          "metadata": {},
          "execution_count": 20
        }
      ]
    },
    {
      "cell_type": "markdown",
      "source": [
        "### **Analisando somente o conjunto de Cientista de Dados**"
      ],
      "metadata": {
        "id": "RAsQ0IG3mjh_"
      }
    },
    {
      "cell_type": "markdown",
      "source": [
        "Para isso, foi criado um novo conjunto de dados (cds). Assim conseguimos analisar cada variável somente dentro de Cientista de Dados.\n",
        "\n",
        "E vemos que o salário em relação à experiência na área também aumenta conforme o tempo de experiência, assim como a área em geral."
      ],
      "metadata": {
        "id": "u4Ognxv6m1PH"
      }
    },
    {
      "cell_type": "code",
      "source": [
        "cds = dados[dados['profissao'] == 'Cientista de Dados']\n",
        "\n",
        "cds['salario'].groupby(cds['experiencia_ds']).mean().round(2).sort_values()"
      ],
      "metadata": {
        "colab": {
          "base_uri": "https://localhost:8080/"
        },
        "id": "ZXoIb7mHkVhD",
        "outputId": "2c17efe5-3cad-4389-f8f3-b672881798c7"
      },
      "execution_count": 21,
      "outputs": [
        {
          "output_type": "execute_result",
          "data": {
            "text/plain": [
              "experiencia_ds\n",
              "Não tenho experiência na área de dados     2500.00\n",
              "Menos de 1 ano                             3675.00\n",
              "de 1 a 2 anos                              5333.33\n",
              "de 2 a 3 anos                              6704.55\n",
              "Mais de 10 anos                           10409.09\n",
              "de 4 a 5 anos                             10648.15\n",
              "de 6 a 10 anos                            12923.08\n",
              "Name: salario, dtype: float64"
            ]
          },
          "metadata": {},
          "execution_count": 21
        }
      ]
    },
    {
      "cell_type": "markdown",
      "source": [
        "#### Em relação ao gênero?\n"
      ],
      "metadata": {
        "id": "_AnurPMonhXw"
      }
    },
    {
      "cell_type": "markdown",
      "source": [
        "E infelizmente, temos o resultado como na maioria das profissões do país, onde a diferença entre salários de mulher e homem é discrepante. A média salarial feminina é de RS5.774,19 e a masculina é de RS7.071,43."
      ],
      "metadata": {
        "id": "-KWvTq4DntGf"
      }
    },
    {
      "cell_type": "code",
      "source": [
        "cds['salario'].groupby(cds['sexo']).mean().round(2).sort_values().plot(kind = 'bar')"
      ],
      "metadata": {
        "colab": {
          "base_uri": "https://localhost:8080/",
          "height": 523
        },
        "id": "kQly8QXNg-Ts",
        "outputId": "bd86000f-a524-4e38-c443-291bfc6430d8"
      },
      "execution_count": 22,
      "outputs": [
        {
          "output_type": "execute_result",
          "data": {
            "text/plain": [
              "<Axes: xlabel='sexo'>"
            ]
          },
          "metadata": {},
          "execution_count": 22
        },
        {
          "output_type": "display_data",
          "data": {
            "text/plain": [
              "<Figure size 640x480 with 1 Axes>"
            ],
            "image/png": "[encoded data removed]"
          },
          "metadata": {}
        }
      ]
    },
    {
      "cell_type": "markdown",
      "source": [
        "E com isso cabe aqui, uma contagem de quantos entrevistados são homens e quantos são mulheres. E vemos que é uma área predominantemente masculina, com 161 homens e apenas 31 mulheres."
      ],
      "metadata": {
        "id": "RVqMwrxdolve"
      }
    },
    {
      "cell_type": "code",
      "source": [
        "cds[\"('P2', 'gender')\"].value_counts().sort_values().plot(kind = 'pie')\n",
        "\n"
      ],
      "metadata": {
        "colab": {
          "base_uri": "https://localhost:8080/",
          "height": 424
        },
        "id": "p_Ax-Y9Tnq3b",
        "outputId": "ae764f4e-edb9-4a09-a8f6-80eb3420d2c1"
      },
      "execution_count": 23,
      "outputs": [
        {
          "output_type": "execute_result",
          "data": {
            "text/plain": [
              "<Axes: ylabel=\"('P2', 'gender')\">"
            ]
          },
          "metadata": {},
          "execution_count": 23
        },
        {
          "output_type": "display_data",
          "data": {
            "text/plain": [
              "<Figure size 640x480 with 1 Axes>"
            ],
            "image/png": "[encoded data removed]"
          },
          "metadata": {}
        }
      ]
    },
    {
      "cell_type": "markdown",
      "source": [
        "#### **Em relação ao tamanho das empresas, qual tem a maior remuneração?**"
      ],
      "metadata": {
        "id": "kXOOdxVB6uyl"
      }
    },
    {
      "cell_type": "markdown",
      "source": [
        "E como o esperado, nas maiores empresas temos os maiores salários, nas médias, salários médios, e nas pequenas, salários menores. E podemos dizer que as empresas grandes têm mais poder para remunerar melhor seus funcionários, e ainda têm mais necessidade de bons profissionais, afinal, quanto maior a empresa, maiores os problemas."
      ],
      "metadata": {
        "id": "R8NmQCsH7mnc"
      }
    },
    {
      "cell_type": "code",
      "source": [
        "cds['salario'].groupby(cds['tamanho_da_empresa']).mean().round(2).sort_values().plot(kind = 'bar')"
      ],
      "metadata": {
        "colab": {
          "base_uri": "https://localhost:8080/",
          "height": 513
        },
        "id": "futg_ZuDpSkF",
        "outputId": "6e8832e0-56e4-465b-c7c0-d2f941e94dd7"
      },
      "execution_count": 24,
      "outputs": [
        {
          "output_type": "execute_result",
          "data": {
            "text/plain": [
              "<Axes: xlabel='tamanho_da_empresa'>"
            ]
          },
          "metadata": {},
          "execution_count": 24
        },
        {
          "output_type": "display_data",
          "data": {
            "text/plain": [
              "<Figure size 640x480 with 1 Axes>"
            ],
            "image/png": "[encoded data removed]"
          },
          "metadata": {}
        }
      ]
    },
    {
      "cell_type": "markdown",
      "source": [
        "#### **Em relação ao gênero e tamanho da empresa?**\n"
      ],
      "metadata": {
        "id": "pcRI1o0X89wJ"
      }
    },
    {
      "cell_type": "markdown",
      "source": [
        "Nessa análise também temos o resultado esperado nas empresas médias e pequenas. Nas empresas grandes os números mostram algo inesperado, que o gênero feminino recebe maiores salários que o masculino. Portanto é indicado verficar a quantidade da amostra."
      ],
      "metadata": {
        "id": "gmPM7GMS-hOI"
      }
    },
    {
      "cell_type": "code",
      "source": [
        "cds.groupby(['tamanho_da_empresa','sexo']).mean()['salario'].round(2).unstack().plot(kind= 'bar')"
      ],
      "metadata": {
        "colab": {
          "base_uri": "https://localhost:8080/",
          "height": 570
        },
        "id": "kgSFAEfc7GCq",
        "outputId": "2f6ff7ac-db7f-41bf-a488-6504ecf3ed6e"
      },
      "execution_count": 25,
      "outputs": [
        {
          "output_type": "stream",
          "name": "stderr",
          "text": [
            "<ipython-input-25-744ce5b5bbca>:1: FutureWarning: The default value of numeric_only in DataFrameGroupBy.mean is deprecated. In a future version, numeric_only will default to False. Either specify numeric_only or select only columns which should be valid for the function.\n",
            "  cds.groupby(['tamanho_da_empresa','sexo']).mean()['salario'].round(2).unstack().plot(kind= 'bar')\n"
          ]
        },
        {
          "output_type": "execute_result",
          "data": {
            "text/plain": [
              "<Axes: xlabel='tamanho_da_empresa'>"
            ]
          },
          "metadata": {},
          "execution_count": 25
        },
        {
          "output_type": "display_data",
          "data": {
            "text/plain": [
              "<Figure size 640x480 with 1 Axes>"
            ],
            "image/png": "[encoded data removed]"
          },
          "metadata": {}
        }
      ]
    },
    {
      "cell_type": "markdown",
      "source": [
        "E temos somente 7 pessoas do sexo feminino, tanto na empresa grande, quanto na pequena, o que nos sugere que os dados acima não são significativos, porque temos uma amostra muito pequena em relação ao todo.\n"
      ],
      "metadata": {
        "id": "1on3dMck_4I1"
      }
    },
    {
      "cell_type": "code",
      "source": [
        "cds.groupby(['tamanho_da_empresa','sexo']).count()['salario']"
      ],
      "metadata": {
        "colab": {
          "base_uri": "https://localhost:8080/"
        },
        "id": "UcskyXum9M0b",
        "outputId": "d9473037-2b0f-4202-d210-0cf045fc766a"
      },
      "execution_count": 26,
      "outputs": [
        {
          "output_type": "execute_result",
          "data": {
            "text/plain": [
              "tamanho_da_empresa  sexo     \n",
              "Grande              Feminino      7\n",
              "                    Masculino    55\n",
              "Média               Feminino     17\n",
              "                    Masculino    56\n",
              "Pequena             Feminino      7\n",
              "                    Masculino    50\n",
              "Name: salario, dtype: int64"
            ]
          },
          "metadata": {},
          "execution_count": 26
        }
      ]
    },
    {
      "cell_type": "markdown",
      "source": [
        "#### **Em relação à escolaridade?**"
      ],
      "metadata": {
        "id": "6V_jEATLBe8I"
      }
    },
    {
      "cell_type": "markdown",
      "source": [
        "Fica claro, que conforme o grau de escolaridade aumenta, a remuneração acompanha o progresso."
      ],
      "metadata": {
        "id": "6hyfrQs7B1JQ"
      }
    },
    {
      "cell_type": "code",
      "source": [
        "cds.groupby(['escolaridade']).mean()['salario'].round(2).sort_values()"
      ],
      "metadata": {
        "colab": {
          "base_uri": "https://localhost:8080/"
        },
        "id": "0_6rADtpAGDt",
        "outputId": "5a0e11a5-dd33-409f-f56c-c259ae6c472b"
      },
      "execution_count": 27,
      "outputs": [
        {
          "output_type": "stream",
          "name": "stderr",
          "text": [
            "<ipython-input-27-095e64fe73c7>:1: FutureWarning: The default value of numeric_only in DataFrameGroupBy.mean is deprecated. In a future version, numeric_only will default to False. Either specify numeric_only or select only columns which should be valid for the function.\n",
            "  cds.groupby(['escolaridade']).mean()['salario'].round(2).sort_values()\n"
          ]
        },
        {
          "output_type": "execute_result",
          "data": {
            "text/plain": [
              "escolaridade\n",
              "Estudante de Graduação         3363.64\n",
              "Graduação/Bacharelado          5459.68\n",
              "Não tenho graduação formal     6416.67\n",
              "Mestrado                       7918.60\n",
              "Pós-graduação                  8986.84\n",
              "Doutorado ou Phd              13500.00\n",
              "Name: salario, dtype: float64"
            ]
          },
          "metadata": {},
          "execution_count": 27
        }
      ]
    },
    {
      "cell_type": "markdown",
      "source": [
        "Para concluir, podemos dizer que a remuneração alta da área de Ciência de Dados, está relacionada à 2 fatores: experiência e escolaridade."
      ],
      "metadata": {
        "id": "Wa_yf-L7r2RU"
      }
    },
    {
      "cell_type": "markdown",
      "source": [
        "E ainda podemos aprofundar a análise, detalhando os dados. Vemos que somente 6 pessoas informaram que não têm graduação formal. E ainda com um devio padrão de 6053,24, o que é considerado alto nesse caso."
      ],
      "metadata": {
        "id": "4YKRuU8CxeJR"
      }
    },
    {
      "cell_type": "code",
      "source": [
        "cds.groupby(['escolaridade']).describe()['salario'].round(2)"
      ],
      "metadata": {
        "id": "e_C9IGlqBu9z",
        "colab": {
          "base_uri": "https://localhost:8080/",
          "height": 268
        },
        "outputId": "e333f2b6-07c0-4be9-cedd-acc16bc0a0a0"
      },
      "execution_count": 28,
      "outputs": [
        {
          "output_type": "execute_result",
          "data": {
            "text/plain": [
              "                            count      mean      std     min      25%  \\\n",
              "escolaridade                                                            \n",
              "Doutorado ou Phd             11.0  13500.00  7221.50  5000.0  10000.0   \n",
              "Estudante de Graduação       33.0   3363.64  3939.53  1000.0   1500.0   \n",
              "Graduação/Bacharelado        62.0   5459.68  3075.95  1000.0   3500.0   \n",
              "Mestrado                     43.0   7918.60  3387.53  1500.0   5000.0   \n",
              "Não tenho graduação formal    6.0   6416.67  6053.24  1000.0   3125.0   \n",
              "Pós-graduação                38.0   8986.84  4638.98  2500.0   5000.0   \n",
              "\n",
              "                                50%      75%      max  \n",
              "escolaridade                                           \n",
              "Doutorado ou Phd            10000.0  18250.0  25000.0  \n",
              "Estudante de Graduação       2500.0   3500.0  22500.0  \n",
              "Graduação/Bacharelado        5000.0   7000.0  18000.0  \n",
              "Mestrado                     7000.0  10000.0  18000.0  \n",
              "Não tenho graduação formal   5000.0   6500.0  18000.0  \n",
              "Pós-graduação                7000.0  10000.0  22500.0  "
            ],
            "text/html": [
              "\n",
              "\n",
              "  <div id=\"df-970f60ea-456f-408f-9bd6-978040b843d1\">\n",
              "    <div class=\"colab-df-container\">\n",
              "      <div>\n",
              "<style scoped>\n",
              "    .dataframe tbody tr th:only-of-type {\n",
              "        vertical-align: middle;\n",
              "    }\n",
              "\n",
              "    .dataframe tbody tr th {\n",
              "        vertical-align: top;\n",
              "    }\n",
              "\n",
              "    .dataframe thead th {\n",
              "        text-align: right;\n",
              "    }\n",
              "</style>\n",
              "<table border=\"1\" class=\"dataframe\">\n",
              "  <thead>\n",
              "    <tr style=\"text-align: right;\">\n",
              "      <th></th>\n",
              "      <th>count</th>\n",
              "      <th>mean</th>\n",
              "      <th>std</th>\n",
              "      <th>min</th>\n",
              "      <th>25%</th>\n",
              "      <th>50%</th>\n",
              "      <th>75%</th>\n",
              "      <th>max</th>\n",
              "    </tr>\n",
              "    <tr>\n",
              "      <th>escolaridade</th>\n",
              "      <th></th>\n",
              "      <th></th>\n",
              "      <th></th>\n",
              "      <th></th>\n",
              "      <th></th>\n",
              "      <th></th>\n",
              "      <th></th>\n",
              "      <th></th>\n",
              "    </tr>\n",
              "  </thead>\n",
              "  <tbody>\n",
              "    <tr>\n",
              "      <th>Doutorado ou Phd</th>\n",
              "      <td>11.0</td>\n",
              "      <td>13500.00</td>\n",
              "      <td>7221.50</td>\n",
              "      <td>5000.0</td>\n",
              "      <td>10000.0</td>\n",
              "      <td>10000.0</td>\n",
              "      <td>18250.0</td>\n",
              "      <td>25000.0</td>\n",
              "    </tr>\n",
              "    <tr>\n",
              "      <th>Estudante de Graduação</th>\n",
              "      <td>33.0</td>\n",
              "      <td>3363.64</td>\n",
              "      <td>3939.53</td>\n",
              "      <td>1000.0</td>\n",
              "      <td>1500.0</td>\n",
              "      <td>2500.0</td>\n",
              "      <td>3500.0</td>\n",
              "      <td>22500.0</td>\n",
              "    </tr>\n",
              "    <tr>\n",
              "      <th>Graduação/Bacharelado</th>\n",
              "      <td>62.0</td>\n",
              "      <td>5459.68</td>\n",
              "      <td>3075.95</td>\n",
              "      <td>1000.0</td>\n",
              "      <td>3500.0</td>\n",
              "      <td>5000.0</td>\n",
              "      <td>7000.0</td>\n",
              "      <td>18000.0</td>\n",
              "    </tr>\n",
              "    <tr>\n",
              "      <th>Mestrado</th>\n",
              "      <td>43.0</td>\n",
              "      <td>7918.60</td>\n",
              "      <td>3387.53</td>\n",
              "      <td>1500.0</td>\n",
              "      <td>5000.0</td>\n",
              "      <td>7000.0</td>\n",
              "      <td>10000.0</td>\n",
              "      <td>18000.0</td>\n",
              "    </tr>\n",
              "    <tr>\n",
              "      <th>Não tenho graduação formal</th>\n",
              "      <td>6.0</td>\n",
              "      <td>6416.67</td>\n",
              "      <td>6053.24</td>\n",
              "      <td>1000.0</td>\n",
              "      <td>3125.0</td>\n",
              "      <td>5000.0</td>\n",
              "      <td>6500.0</td>\n",
              "      <td>18000.0</td>\n",
              "    </tr>\n",
              "    <tr>\n",
              "      <th>Pós-graduação</th>\n",
              "      <td>38.0</td>\n",
              "      <td>8986.84</td>\n",
              "      <td>4638.98</td>\n",
              "      <td>2500.0</td>\n",
              "      <td>5000.0</td>\n",
              "      <td>7000.0</td>\n",
              "      <td>10000.0</td>\n",
              "      <td>22500.0</td>\n",
              "    </tr>\n",
              "  </tbody>\n",
              "</table>\n",
              "</div>\n",
              "      <button class=\"colab-df-convert\" onclick=\"convertToInteractive('df-970f60ea-456f-408f-9bd6-978040b843d1')\"\n",
              "              title=\"Convert this dataframe to an interactive table.\"\n",
              "              style=\"display:none;\">\n",
              "\n",
              "  <svg xmlns=\"http://www.w3.org/2000/svg\" height=\"24px\"viewBox=\"0 0 24 24\"\n",
              "       width=\"24px\">\n",
              "    <path d=\"M0 0h24v24H0V0z\" fill=\"none\"/>\n",
              "    <path d=\"M18.56 5.44l.94 2.06.94-2.06 2.06-.94-2.06-.94-.94-2.06-.94 2.06-2.06.94zm-11 1L8.5 8.5l.94-2.06 2.06-.94-2.06-.94L8.5 2.5l-.94 2.06-2.06.94zm10 10l.94 2.06.94-2.06 2.06-.94-2.06-.94-.94-2.06-.94 2.06-2.06.94z\"/><path d=\"M17.41 7.96l-1.37-1.37c-.4-.4-.92-.59-1.43-.59-.52 0-1.04.2-1.43.59L10.3 9.45l-7.72 7.72c-.78.78-.78 2.05 0 2.83L4 21.41c.39.39.9.59 1.41.59.51 0 1.02-.2 1.41-.59l7.78-7.78 2.81-2.81c.8-.78.8-2.07 0-2.86zM5.41 20L4 18.59l7.72-7.72 1.47 1.35L5.41 20z\"/>\n",
              "  </svg>\n",
              "      </button>\n",
              "\n",
              "\n",
              "\n",
              "    <div id=\"df-dcc8a374-a1be-4f9b-94d1-32ecf1024132\">\n",
              "      <button class=\"colab-df-quickchart\" onclick=\"quickchart('df-dcc8a374-a1be-4f9b-94d1-32ecf1024132')\"\n",
              "              title=\"Suggest charts.\"\n",
              "              style=\"display:none;\">\n",
              "\n",
              "<svg xmlns=\"http://www.w3.org/2000/svg\" height=\"24px\"viewBox=\"0 0 24 24\"\n",
              "     width=\"24px\">\n",
              "    <g>\n",
              "        <path d=\"M19 3H5c-1.1 0-2 .9-2 2v14c0 1.1.9 2 2 2h14c1.1 0 2-.9 2-2V5c0-1.1-.9-2-2-2zM9 17H7v-7h2v7zm4 0h-2V7h2v10zm4 0h-2v-4h2v4z\"/>\n",
              "    </g>\n",
              "</svg>\n",
              "      </button>\n",
              "    </div>\n",
              "\n",
              "<style>\n",
              "  .colab-df-quickchart {\n",
              "    background-color: #E8F0FE;\n",
              "    border: none;\n",
              "    border-radius: 50%;\n",
              "    cursor: pointer;\n",
              "    display: none;\n",
              "    fill: #1967D2;\n",
              "    height: 32px;\n",
              "    padding: 0 0 0 0;\n",
              "    width: 32px;\n",
              "  }\n",
              "\n",
              "  .colab-df-quickchart:hover {\n",
              "    background-color: #E2EBFA;\n",
              "    box-shadow: 0px 1px 2px rgba(60, 64, 67, 0.3), 0px 1px 3px 1px rgba(60, 64, 67, 0.15);\n",
              "    fill: #174EA6;\n",
              "  }\n",
              "\n",
              "  [theme=dark] .colab-df-quickchart {\n",
              "    background-color: #3B4455;\n",
              "    fill: #D2E3FC;\n",
              "  }\n",
              "\n",
              "  [theme=dark] .colab-df-quickchart:hover {\n",
              "    background-color: #434B5C;\n",
              "    box-shadow: 0px 1px 3px 1px rgba(0, 0, 0, 0.15);\n",
              "    filter: drop-shadow(0px 1px 2px rgba(0, 0, 0, 0.3));\n",
              "    fill: #FFFFFF;\n",
              "  }\n",
              "</style>\n",
              "\n",
              "    <script>\n",
              "      async function quickchart(key) {\n",
              "        const containerElement = document.querySelector('#' + key);\n",
              "        const charts = await google.colab.kernel.invokeFunction(\n",
              "            'suggestCharts', [key], {});\n",
              "      }\n",
              "    </script>\n",
              "\n",
              "      <script>\n",
              "\n",
              "function displayQuickchartButton(domScope) {\n",
              "  let quickchartButtonEl =\n",
              "    domScope.querySelector('#df-dcc8a374-a1be-4f9b-94d1-32ecf1024132 button.colab-df-quickchart');\n",
              "  quickchartButtonEl.style.display =\n",
              "    google.colab.kernel.accessAllowed ? 'block' : 'none';\n",
              "}\n",
              "\n",
              "        displayQuickchartButton(document);\n",
              "      </script>\n",
              "      <style>\n",
              "    .colab-df-container {\n",
              "      display:flex;\n",
              "      flex-wrap:wrap;\n",
              "      gap: 12px;\n",
              "    }\n",
              "\n",
              "    .colab-df-convert {\n",
              "      background-color: #E8F0FE;\n",
              "      border: none;\n",
              "      border-radius: 50%;\n",
              "      cursor: pointer;\n",
              "      display: none;\n",
              "      fill: #1967D2;\n",
              "      height: 32px;\n",
              "      padding: 0 0 0 0;\n",
              "      width: 32px;\n",
              "    }\n",
              "\n",
              "    .colab-df-convert:hover {\n",
              "      background-color: #E2EBFA;\n",
              "      box-shadow: 0px 1px 2px rgba(60, 64, 67, 0.3), 0px 1px 3px 1px rgba(60, 64, 67, 0.15);\n",
              "      fill: #174EA6;\n",
              "    }\n",
              "\n",
              "    [theme=dark] .colab-df-convert {\n",
              "      background-color: #3B4455;\n",
              "      fill: #D2E3FC;\n",
              "    }\n",
              "\n",
              "    [theme=dark] .colab-df-convert:hover {\n",
              "      background-color: #434B5C;\n",
              "      box-shadow: 0px 1px 3px 1px rgba(0, 0, 0, 0.15);\n",
              "      filter: drop-shadow(0px 1px 2px rgba(0, 0, 0, 0.3));\n",
              "      fill: #FFFFFF;\n",
              "    }\n",
              "  </style>\n",
              "\n",
              "      <script>\n",
              "        const buttonEl =\n",
              "          document.querySelector('#df-970f60ea-456f-408f-9bd6-978040b843d1 button.colab-df-convert');\n",
              "        buttonEl.style.display =\n",
              "          google.colab.kernel.accessAllowed ? 'block' : 'none';\n",
              "\n",
              "        async function convertToInteractive(key) {\n",
              "          const element = document.querySelector('#df-970f60ea-456f-408f-9bd6-978040b843d1');\n",
              "          const dataTable =\n",
              "            await google.colab.kernel.invokeFunction('convertToInteractive',\n",
              "                                                     [key], {});\n",
              "          if (!dataTable) return;\n",
              "\n",
              "          const docLinkHtml = 'Like what you see? Visit the ' +\n",
              "            '<a target=\"_blank\" href=https://colab.research.google.com/notebooks/data_table.ipynb>data table notebook</a>'\n",
              "            + ' to learn more about interactive tables.';\n",
              "          element.innerHTML = '';\n",
              "          dataTable['output_type'] = 'display_data';\n",
              "          await google.colab.output.renderOutput(dataTable, element);\n",
              "          const docLink = document.createElement('div');\n",
              "          docLink.innerHTML = docLinkHtml;\n",
              "          element.appendChild(docLink);\n",
              "        }\n",
              "      </script>\n",
              "    </div>\n",
              "  </div>\n"
            ]
          },
          "metadata": {},
          "execution_count": 28
        }
      ]
    },
    {
      "cell_type": "markdown",
      "source": [
        "O que torna a análise curiosa, então vamos isolar essas pessoas para tentar entender a relação entre Não ter Graduação Formal e Salário."
      ],
      "metadata": {
        "id": "J0_56k2_x81Q"
      }
    },
    {
      "cell_type": "code",
      "source": [
        "cds[cds['escolaridade'] == 'Não tenho graduação formal']['salario']"
      ],
      "metadata": {
        "colab": {
          "base_uri": "https://localhost:8080/"
        },
        "id": "DEGGi6YwsgEA",
        "outputId": "fde68534-ae95-4a77-8c2c-669480e16636"
      },
      "execution_count": 29,
      "outputs": [
        {
          "output_type": "execute_result",
          "data": {
            "text/plain": [
              "165      2500.0\n",
              "536      7000.0\n",
              "626      5000.0\n",
              "1142     5000.0\n",
              "1290    18000.0\n",
              "1764     1000.0\n",
              "Name: salario, dtype: float64"
            ]
          },
          "metadata": {},
          "execution_count": 29
        }
      ]
    },
    {
      "cell_type": "markdown",
      "source": [
        "E podemos notar que, uma pessoa informou o salário de 18.000,00 reais, o que faz aumentar a média, é um outliner, já que as outras pessoas têm salários entre 1.000,00 e 7.000,00 reais.\n",
        "\n",
        "Então podemos levar em consideração a mediana (50%), para saber o salário da categoria Não tenho graduação formal, que informa o salário de 5.000,00 reais, e não 6.416,67, como a média."
      ],
      "metadata": {
        "id": "ChwdAHRyygNf"
      }
    },
    {
      "cell_type": "markdown",
      "source": [
        "#### **Qual a linguagem mais utilizada?**"
      ],
      "metadata": {
        "id": "869MNYMzz5jP"
      }
    },
    {
      "cell_type": "markdown",
      "source": [
        "E analisando essa questão temos que 89,63% das pessoas utilizam Python no dia a dia de trabalho."
      ],
      "metadata": {
        "id": "DN-Jp5BB0LYv"
      }
    },
    {
      "cell_type": "code",
      "source": [
        "cds.filter(regex = 'P21').mean().sort_values(ascending = False)"
      ],
      "metadata": {
        "colab": {
          "base_uri": "https://localhost:8080/"
        },
        "id": "F9Wi3hYt0mTr",
        "outputId": "4a0a32a9-3eac-424c-8fd4-005743a12c93"
      },
      "execution_count": 30,
      "outputs": [
        {
          "output_type": "execute_result",
          "data": {
            "text/plain": [
              "('P21', 'python')                 0.896373\n",
              "('P21', 'sql_')                   0.730570\n",
              "('P21', 'r')                      0.383420\n",
              "('P21', 'sas_stata')              0.088083\n",
              "('P21', 'scala')                  0.082902\n",
              "('P21', 'visual_basic_vba')       0.051813\n",
              "('P21', 'java')                   0.041451\n",
              "('P21', 'c_c++_c#')               0.031088\n",
              "('P21', 'matlab')                 0.025907\n",
              "('P21', 'dotnet')                 0.010363\n",
              "('P21', 'julia')                  0.010363\n",
              "('P21', 'php')                    0.005181\n",
              "('P21', 'no_listed_languages')    0.000000\n",
              "dtype: float64"
            ]
          },
          "metadata": {},
          "execution_count": 30
        }
      ]
    },
    {
      "cell_type": "markdown",
      "source": [
        "E mesmo analisando o conjunto total de dados, temos que 44,41% das pessoas utilizam PYthon, o que é um número bem elevado."
      ],
      "metadata": {
        "id": "q0xfNyOC0gHw"
      }
    },
    {
      "cell_type": "code",
      "source": [
        "dados[\"('P21', 'python')\"].mean()"
      ],
      "metadata": {
        "colab": {
          "base_uri": "https://localhost:8080/"
        },
        "id": "jpkUvCvv0G9x",
        "outputId": "2467393d-ea19-4647-f36d-70e91b851a41"
      },
      "execution_count": 31,
      "outputs": [
        {
          "output_type": "execute_result",
          "data": {
            "text/plain": [
              "0.4441926345609065"
            ]
          },
          "metadata": {},
          "execution_count": 31
        }
      ]
    },
    {
      "cell_type": "markdown",
      "source": [
        "Python é a linguagem mais usada pelos cientistas de dados, com 89,63%. A segunda mais usada é SQL com 73,05% e a terceira é R com 38,34%. O que nos diz que essas 3 linguagens são muito importantes de serem aprendidas, já as demais seriam diferenciais, mas ao mesmo tempo, podem dificultar o trabalho na empresa por falta de suporte."
      ],
      "metadata": {
        "id": "24jFP7m51wym"
      }
    },
    {
      "cell_type": "markdown",
      "source": [
        "#### **Qual o método mais utilizado?**"
      ],
      "metadata": {
        "id": "uMWWTcTG21J9"
      }
    },
    {
      "cell_type": "code",
      "source": [
        "cds.filter(regex = 'P20').mean().sort_values(ascending = False)"
      ],
      "metadata": {
        "colab": {
          "base_uri": "https://localhost:8080/"
        },
        "id": "Hk8VomCY1Liw",
        "outputId": "b6fa0a41-cf96-4b77-9c22-18b1a9e514f1"
      },
      "execution_count": 32,
      "outputs": [
        {
          "output_type": "execute_result",
          "data": {
            "text/plain": [
              "('P20', 'linear_regression')             0.740933\n",
              "('P20', 'logistic_regression')           0.673575\n",
              "('P20', 'decision_tree')                 0.652850\n",
              "('P20', 'random_forest')                 0.647668\n",
              "('P20', 'cluster_analysis')              0.601036\n",
              "('P20', 'neural_networks')               0.461140\n",
              "('P20', 'gradient_boosted_machines')     0.445596\n",
              "('P20', 'ensemble')                      0.398964\n",
              "('P20', 'nlp')                           0.352332\n",
              "('P20', 'bayesian_inference')            0.321244\n",
              "('P20', 'svms')                          0.305699\n",
              "('P20', 'glms')                          0.290155\n",
              "('P20', 'rnns')                          0.181347\n",
              "('P20', 'longitudinal_data_analysis')    0.176166\n",
              "('P20', 'cnns')                          0.165803\n",
              "('P20', 'markov_chains')                 0.134715\n",
              "('P20', 'survival_analysis')             0.134715\n",
              "('P20', 'joint analysis')                0.067358\n",
              "('P20', 'gans')                          0.046632\n",
              "('P20', 'hmms')                          0.041451\n",
              "('P20', 'no_listed_methods')             0.036269\n",
              "dtype: float64"
            ]
          },
          "metadata": {},
          "execution_count": 32
        }
      ]
    },
    {
      "cell_type": "markdown",
      "source": [
        "A Regressão Linear é a mais usada com 74,09%, seguida por Regressão Logística com 67,35% e em terceiro lugar a Árvore de Decisão com 65,28%."
      ],
      "metadata": {
        "id": "QvpDY33b5MWU"
      }
    },
    {
      "cell_type": "markdown",
      "source": [
        "#### **Qual a ferramenta de Bussiness Intelligence mais utilizada?**"
      ],
      "metadata": {
        "id": "0fLRs_ei6NUV"
      }
    },
    {
      "cell_type": "code",
      "source": [
        "cds.filter(regex = 'P27').mean().sort_values(ascending = False)"
      ],
      "metadata": {
        "colab": {
          "base_uri": "https://localhost:8080/"
        },
        "id": "1L3dK0gi5GJ2",
        "outputId": "3284e343-dbd8-4454-d66b-ae6969f24a75"
      },
      "execution_count": 33,
      "outputs": [
        {
          "output_type": "execute_result",
          "data": {
            "text/plain": [
              "('P27', 'microsoft_powerbi')               0.336788\n",
              "('P27', 'no_bi_tool_at_work')              0.217617\n",
              "('P27', 'metabase')                        0.186528\n",
              "('P27', 'tableau')                         0.176166\n",
              "('P27', 'google_data_studio')              0.134715\n",
              "('P27', 'qlik_view_qlik_sense')            0.088083\n",
              "('P27', 'only_excel_gsheets')              0.077720\n",
              "('P27', 'other')                           0.077720\n",
              "('P27', 'redash')                          0.041451\n",
              "('P27', 'ibm_analytics_cognos')            0.025907\n",
              "('P27', 'superset')                        0.020725\n",
              "('P27', 'microstrategy')                   0.020725\n",
              "('P27', 'looker')                          0.015544\n",
              "('P27', 'sap_business_objects')            0.005181\n",
              "('P27', 'oracle_business_intelligence')    0.005181\n",
              "('P27', 'birst')                           0.000000\n",
              "dtype: float64"
            ]
          },
          "metadata": {},
          "execution_count": 33
        }
      ]
    },
    {
      "cell_type": "markdown",
      "source": [
        "E conforme esperado, Power BI é a mais utilizada, com 33,67%, seguida de Metabase com 18,65% e em terceiro lugar o Tableau com 17,16%.\n",
        "\n",
        "Mas podemos analisar também somente os Analistas de BI, que utilizariam mais essas ferramentas."
      ],
      "metadata": {
        "id": "xFL7C8NU6rcj"
      }
    },
    {
      "cell_type": "code",
      "source": [
        "abi = dados[dados['profissao'] == 'Analista de BI']"
      ],
      "metadata": {
        "id": "CYdW2Rj-6ckL"
      },
      "execution_count": 34,
      "outputs": []
    },
    {
      "cell_type": "code",
      "source": [
        "abi.filter(regex = 'P27').mean().sort_values(ascending = False)"
      ],
      "metadata": {
        "colab": {
          "base_uri": "https://localhost:8080/"
        },
        "id": "adkpklWs7rGR",
        "outputId": "b788ac7c-0d67-45eb-ab4f-63c40ac4be36"
      },
      "execution_count": 35,
      "outputs": [
        {
          "output_type": "execute_result",
          "data": {
            "text/plain": [
              "('P27', 'microsoft_powerbi')               0.274900\n",
              "('P27', 'tableau')                         0.095618\n",
              "('P27', 'qlik_view_qlik_sense')            0.083665\n",
              "('P27', 'only_excel_gsheets')              0.079681\n",
              "('P27', 'other')                           0.063745\n",
              "('P27', 'metabase')                        0.051793\n",
              "('P27', 'google_data_studio')              0.043825\n",
              "('P27', 'microstrategy')                   0.027888\n",
              "('P27', 'no_bi_tool_at_work')              0.027888\n",
              "('P27', 'sap_business_objects')            0.023904\n",
              "('P27', 'ibm_analytics_cognos')            0.019920\n",
              "('P27', 'superset')                        0.011952\n",
              "('P27', 'oracle_business_intelligence')    0.007968\n",
              "('P27', 'looker')                          0.003984\n",
              "('P27', 'redash')                          0.000000\n",
              "('P27', 'birst')                           0.000000\n",
              "dtype: float64"
            ]
          },
          "metadata": {},
          "execution_count": 35
        }
      ]
    },
    {
      "cell_type": "markdown",
      "source": [
        "E o interessante que percebemos aqui é que o grupo de Cientistas de Dados utilizam mais as ferramentas de BI do que os profissionais da Analista de BI."
      ],
      "metadata": {
        "id": "AlVdMb5pZmhi"
      }
    }
  ]
}